{
  "nbformat": 4,
  "nbformat_minor": 0,
  "metadata": {
    "colab": {
      "name": "0.186.ipynb",
      "version": "0.3.2",
      "provenance": [],
      "collapsed_sections": [
        "Ct1ROn1w4vZ3",
        "YZEhRVsGH_WK"
      ]
    },
    "kernelspec": {
      "name": "python3",
      "display_name": "Python 3"
    },
    "accelerator": "GPU"
  },
  "cells": [
    {
      "metadata": {
        "id": "Ct1ROn1w4vZ3",
        "colab_type": "text"
      },
      "cell_type": "markdown",
      "source": [
        "### Data downloading"
      ]
    },
    {
      "metadata": {
        "id": "WqB4gVGQYTMl",
        "colab_type": "code",
        "colab": {}
      },
      "cell_type": "code",
      "source": [
        "!wget --header=\"Host: storage.googleapis.com\" --header=\"User-Agent: Mozilla/5.0 (Windows NT 6.1) AppleWebKit/537.36 (KHTML, like Gecko) Chrome/71.0.3578.98 Safari/537.36\" --header=\"Accept: text/html,application/xhtml+xml,application/xml;q=0.9,image/webp,image/apng,*/*;q=0.8\" --header=\"Accept-Language: en-US,en;q=0.9\" --header=\"Referer: https://www.kaggle.com/\" \"https://storage.googleapis.com/kaggle-competitions-data/kaggle/10418/123020/sample_submission.csv?GoogleAccessId=web-data@kaggle-161607.iam.gserviceaccount.com&Expires=1546593926&Signature=ILvRnzUeGyalQCRxAWCTzIEH7AvmgeYTszUmK5LGHHK9ysHsBWFpO6z97Uil4sKysMuYkIt6SEoQoMDx562EIGAIkP5w92IwpFiMhSkjc1WkUE4%2BVg9PDb7WtoRKjg29DIYCbpbdg35L1xBY3b%2B4NamQFrwnKy3lPnJXska%2FutZ4IoAQeGBe2GAxsqbxCsrBXkkLQnLG0pxMchMVh5YdIU2YBEByw6KnsCMVBd9T21p8Lg4JP%2BwaBSd%2F34dNN2PeZtxQtqgCAlK5ueMAKtVXqe34cAJbuYG90%2BRu9u%2F2Ot757eE8NDfKDI8B9uWOuRvR3dL4sQcT4BSEG4ows0wLmg%3D%3D\" -O \"sample_submission.csv\" -c"
      ],
      "execution_count": 0,
      "outputs": []
    },
    {
      "metadata": {
        "id": "SC0rbllrYbEb",
        "colab_type": "code",
        "colab": {}
      },
      "cell_type": "code",
      "source": [
        "!wget --header=\"Host: storage.googleapis.com\" --header=\"User-Agent: Mozilla/5.0 (Windows NT 6.1) AppleWebKit/537.36 (KHTML, like Gecko) Chrome/71.0.3578.98 Safari/537.36\" --header=\"Accept: text/html,application/xhtml+xml,application/xml;q=0.9,image/webp,image/apng,*/*;q=0.8\" --header=\"Accept-Language: en-US,en;q=0.9\" --header=\"Referer: https://www.kaggle.com/\" \"https://storage.googleapis.com/kaggle-competitions-data/kaggle/10418/123020/train.csv?GoogleAccessId=web-data@kaggle-161607.iam.gserviceaccount.com&Expires=1546593941&Signature=ot%2BkTG6B8X2Ia0LvuoeATTDj%2BFdxL0dpd4PbFa%2BDSW83cgIB0nYEvI1l8SPAFkFUhShfVAMBS3rUTi%2FbvIZ68rTghc%2FK%2FvI4iEmtyiBA5BQO6nVOZs0LEuU%2FnpNoy0MeCgx8RZmOfdQJ5QXF3mJoY7MtdqG94AYe%2Bce3nnOQyJU1xuzzH4QyxX2ti8cIBwTlXP%2F321sR70pLZJj5RYts1DM8LcAGhtF61PNkIZqBN%2FTcL68MRCxQh3EIeh7j2MYIpcG5AG2EsYfqQ2gil1bhSIg2%2BtWdgXfI92feuv4H3OiMfhOG8A55tsCqKtCKRuPzrpuTfS2NYkETycFhIhRzFg%3D%3D\" -O \"train.csv\" -c"
      ],
      "execution_count": 0,
      "outputs": []
    },
    {
      "metadata": {
        "id": "G_enpyRiYcmn",
        "colab_type": "code",
        "colab": {}
      },
      "cell_type": "code",
      "source": [
        "!wget --header=\"Host: storage.googleapis.com\" --header=\"User-Agent: Mozilla/5.0 (Windows NT 6.1) AppleWebKit/537.36 (KHTML, like Gecko) Chrome/71.0.3578.98 Safari/537.36\" --header=\"Accept: text/html,application/xhtml+xml,application/xml;q=0.9,image/webp,image/apng,*/*;q=0.8\" --header=\"Accept-Language: en-US,en;q=0.9\" --header=\"Referer: https://www.kaggle.com/\" \"https://storage.googleapis.com/kaggle-competitions-data/kaggle/10418/123020/test.zip?GoogleAccessId=web-data@kaggle-161607.iam.gserviceaccount.com&Expires=1546593965&Signature=R%2BD0KjQYtQH%2BkjYV%2BxUaJypabvw5gGjvtG%2F4lPkxiC9vwvbJ0E5NUW0s7Yd%2B3W1%2FObrSXUG%2Fk4vAzRQjJxFTuB6IB0Yp6jIhtcvL9MdwMFriefU3C6WZspqJhE7TwUJivxVvI0ZTZifplwsdIaZtW7DAxPPBN1axEJFDoMvEuh6X0dDAor5842pb4w90n1qPg47HgA64LYhpiC0u8zZW2bImx3qLR6Fpyq6ePRAoE0%2FLU14sKpn4m1BZxNQ4yDjzZNZKvHexoENBIO9BQ7Ko9AhvxD8k38xGB2smUom%2BnBpkcwqMQvCBG8KZGmB%2FRRE0iLnI0B4DXK8esGaYNBj9MA%3D%3D\" -O \"test.zip\" -c"
      ],
      "execution_count": 0,
      "outputs": []
    },
    {
      "metadata": {
        "id": "BrJPcfqHYeUD",
        "colab_type": "code",
        "colab": {}
      },
      "cell_type": "code",
      "source": [
        "!wget --header=\"Host: storage.googleapis.com\" --header=\"User-Agent: Mozilla/5.0 (Windows NT 6.1) AppleWebKit/537.36 (KHTML, like Gecko) Chrome/71.0.3578.98 Safari/537.36\" --header=\"Accept: text/html,application/xhtml+xml,application/xml;q=0.9,image/webp,image/apng,*/*;q=0.8\" --header=\"Accept-Language: en-US,en;q=0.9\" --header=\"Referer: https://www.kaggle.com/\" \"https://storage.googleapis.com/kaggle-competitions-data/kaggle/10418/123020/train.zip?GoogleAccessId=web-data@kaggle-161607.iam.gserviceaccount.com&Expires=1546594144&Signature=HLKS2oINchp%2BEVcZ78%2FAuJVY9jKtNyM2sW3SGoISNH5t1GmVFnGgeNvxJI19pXvHvnzGWnmn9JKa9agMHepg7%2B55FIgfsLYvmoo6cEe8QRjoyAqkllFZTK1R2J3LF1Rd1Su1%2BzXHfzhjf6okj7QPevIHbOgtHI5U5xj2UDRMgZWFeuIzqekDBEAAlV9Wfy0cywQg%2FbQ8ECQji7lo%2FdBF%2FadMbeHaDH4qZ%2BH3mBIJmi0ugOwe2ViXI6cdEFXq33EZq38hP0BI6fxIQn2NDmT7%2FR4%2FmktkfmhOaGdKecbqmANxYUsCXkyinv7nktD4tfhN3GgymdymxhCaMCucWgYCIg%3D%3D\" -O \"train.zip\" -c"
      ],
      "execution_count": 0,
      "outputs": []
    },
    {
      "metadata": {
        "id": "6L4K9UBEYgWJ",
        "colab_type": "code",
        "colab": {}
      },
      "cell_type": "code",
      "source": [
        "!mkdir data\n",
        "!mkdir data/protein"
      ],
      "execution_count": 0,
      "outputs": []
    },
    {
      "metadata": {
        "id": "4L3wdAAwYjce",
        "colab_type": "code",
        "colab": {}
      },
      "cell_type": "code",
      "source": [
        "!unzip -qq train.zip -d data/protein/train"
      ],
      "execution_count": 0,
      "outputs": []
    },
    {
      "metadata": {
        "id": "Ua8XqQ2FYk_w",
        "colab_type": "code",
        "colab": {}
      },
      "cell_type": "code",
      "source": [
        "!unzip -qq test.zip -d data/protein/test"
      ],
      "execution_count": 0,
      "outputs": []
    },
    {
      "metadata": {
        "id": "lqL_at-lYmT2",
        "colab_type": "code",
        "colab": {}
      },
      "cell_type": "code",
      "source": [
        "!mv train.csv data/protein"
      ],
      "execution_count": 0,
      "outputs": []
    },
    {
      "metadata": {
        "id": "PtaFzMihYnSh",
        "colab_type": "code",
        "colab": {}
      },
      "cell_type": "code",
      "source": [
        "!pip install fastai==0.7\n",
        "!python -m pip install torchtext==0.2.3"
      ],
      "execution_count": 0,
      "outputs": []
    },
    {
      "metadata": {
        "id": "3CPfjvnYK4eb",
        "colab_type": "text"
      },
      "cell_type": "markdown",
      "source": [
        "### Modeling"
      ]
    },
    {
      "metadata": {
        "id": "b5EEMsM_YokX",
        "colab_type": "code",
        "colab": {}
      },
      "cell_type": "code",
      "source": [
        "from fastai.imports import *\n",
        "from fastai.torch_imports import *\n",
        "from fastai.transforms import *\n",
        "from fastai.conv_learner import *\n",
        "from fastai.model import *\n",
        "from fastai.dataset import *\n",
        "from fastai.sgdr import *\n",
        "from fastai.plots import *\n",
        "from sklearn.metrics import fbeta_score\n",
        "import warnings\n",
        "#from fastai.models.cifar10.resnext import resnext29_8_64\n",
        "from sklearn.metrics import f1_score\n",
        "def f1(preds, targs, start=0.17, end=0.24, step=0.01):\n",
        "    with warnings.catch_warnings():\n",
        "        warnings.simplefilter(\"ignore\")\n",
        "        return max([f1_score(targs, (preds>th), average='micro')\n",
        "                    for th in np.arange(start,end,step)])\n",
        "metrics=[f1]"
      ],
      "execution_count": 0,
      "outputs": []
    },
    {
      "metadata": {
        "id": "8jTl-B6QYs69",
        "colab_type": "code",
        "colab": {}
      },
      "cell_type": "code",
      "source": [
        "%reload_ext autoreload\n",
        "%autoreload 2\n",
        "%matplotlib inline"
      ],
      "execution_count": 0,
      "outputs": []
    },
    {
      "metadata": {
        "id": "dLfSpwkcYyeu",
        "colab_type": "code",
        "colab": {}
      },
      "cell_type": "code",
      "source": [
        "import pandas as pd\n",
        "PATH = \"data/protein/\"\n",
        "label_csv = f'{PATH}train.csv'\n",
        "n = len(list(open(label_csv))) - 1 # header is not counted (-1)\n",
        "val_idxs = get_cv_idxs(n) # random 20% data for validation set\n",
        "label_df = pd.read_csv(label_csv)\n",
        "bs = 16\n",
        "sz = 256"
      ],
      "execution_count": 0,
      "outputs": []
    },
    {
      "metadata": {
        "id": "scFZVUWLZCil",
        "colab_type": "code",
        "colab": {}
      },
      "cell_type": "code",
      "source": [
        "label_csv = f'{PATH}train.csv'\n",
        "label_df = pd.read_csv(label_csv)\n",
        "label_df.head()"
      ],
      "execution_count": 0,
      "outputs": []
    },
    {
      "metadata": {
        "id": "DhNuK-YPW5ug",
        "colab_type": "text"
      },
      "cell_type": "markdown",
      "source": [
        "### Modeling"
      ]
    },
    {
      "metadata": {
        "id": "F6JU8C3HW5QC",
        "colab_type": "code",
        "colab": {}
      },
      "cell_type": "code",
      "source": [
        "PATH = \"data/protein/\"\n",
        "sz = 512\n",
        "arch = resnet18\n",
        "label_csv = f'{PATH}train.csv'\n",
        "n = len(list(open(label_csv))) - 1 # header is not counted (-1)\n",
        "val_idxs = get_cv_idxs(n) # random 20% data for validation set\n",
        "label_df = pd.read_csv(label_csv)\n",
        "#bs = 16"
      ],
      "execution_count": 0,
      "outputs": []
    },
    {
      "metadata": {
        "id": "sPcwg9-oy3Iu",
        "colab_type": "code",
        "colab": {}
      },
      "cell_type": "code",
      "source": [
        "# If you haven't downloaded weights.tgz yet, download the file.\n",
        "#     http://forums.fast.ai/t/error-when-trying-to-use-resnext50/7555\n",
        "#     http://forums.fast.ai/t/lesson-2-in-class-discussion/7452/222\n",
        "#!wget -O fastai/weights.tgz http://files.fast.ai/models/weights.tgz\n",
        "!wget http://files.fast.ai/models/weights.tgz\n",
        "!tar xvfz weights.tgz -C /usr/local/lib/python3.6/dist-packages/fastai/\n"
      ],
      "execution_count": 0,
      "outputs": []
    },
    {
      "metadata": {
        "id": "lKdVoq4jM2-o",
        "colab_type": "code",
        "colab": {}
      },
      "cell_type": "code",
      "source": [
        "def get_data(sz, bs): # sz: image size, bs: batch size\n",
        "    tfms = tfms_from_model(arch, sz, aug_tfms=transforms_side_on, max_zoom=1.1)\n",
        "    data = ImageClassifierData.from_csv(PATH, 'train', f'{PATH}labels.csv', test_name='test',\n",
        "                                       val_idxs=val_idxs, suffix='_green.jpg', tfms=tfms, bs=bs)\n",
        "    \n",
        "    # http://forums.fast.ai/t/how-to-train-on-the-full-dataset-using-imageclassifierdata-from-csv/7761/13\n",
        "    # http://forums.fast.ai/t/how-to-train-on-the-full-dataset-using-imageclassifierdata-from-csv/7761/37\n",
        "    return data if sz > 300 else data.resize(340, 'tmp') # Reading the jpgs and resizing is slow for big images, so resizing them all to 340 first saves time\n",
        "\n",
        "#Source:   \n",
        "#    def resize(self, targ, new_path):\n",
        "#        new_ds = []\n",
        "#        dls = [self.trn_dl,self.val_dl,self.fix_dl,self.aug_dl]\n",
        "#        if self.test_dl: dls += [self.test_dl, self.test_aug_dl]\n",
        "#        else: dls += [None,None]\n",
        "#        t = tqdm_notebook(dls)\n",
        "#        for dl in t: new_ds.append(self.resized(dl, targ, new_path))\n",
        "#        t.close()\n",
        "#        return self.__class__(new_ds[0].path, new_ds, self.bs, self.num_workers, self.classes)\n",
        "#File:      ~/fastai/courses/dl1/fastai/dataset.py"
      ],
      "execution_count": 0,
      "outputs": []
    },
    {
      "metadata": {
        "id": "gkJ4cSTmNiIz",
        "colab_type": "code",
        "colab": {}
      },
      "cell_type": "code",
      "source": [
        "arch = resnet50"
      ],
      "execution_count": 0,
      "outputs": []
    },
    {
      "metadata": {
        "id": "wafoaPaoXhZe",
        "colab_type": "code",
        "colab": {}
      },
      "cell_type": "code",
      "source": [
        "def get_data(sz):\n",
        "    tfms = tfms_from_model(arch, sz, transforms_top_down, max_zoom=1.05)\n",
        "    return ImageClassifierData.from_csv(PATH, 'train', label_csv, tfms=tfms, test_name='test', suffix='_green.png')"
      ],
      "execution_count": 0,
      "outputs": []
    },
    {
      "metadata": {
        "id": "HgGgxO9YX6SH",
        "colab_type": "code",
        "colab": {}
      },
      "cell_type": "code",
      "source": [
        "data = get_data(512)"
      ],
      "execution_count": 0,
      "outputs": []
    },
    {
      "metadata": {
        "id": "-C4J06FGUSCB",
        "colab_type": "code",
        "colab": {}
      },
      "cell_type": "code",
      "source": [
        "sz=128\n",
        "data = get_data(sz)\n",
        "data = data.resize(int(sz*1.3), 'tmp')"
      ],
      "execution_count": 0,
      "outputs": []
    },
    {
      "metadata": {
        "id": "TFClYwM6X8u5",
        "colab_type": "code",
        "colab": {}
      },
      "cell_type": "code",
      "source": [
        "learn = ConvLearner.pretrained(arch, data, metrics = metrics, opt_fn=optim.Adam, ps=0.5)"
      ],
      "execution_count": 0,
      "outputs": []
    },
    {
      "metadata": {
        "id": "J3uzDKO4YDbm",
        "colab_type": "code",
        "colab": {}
      },
      "cell_type": "code",
      "source": [
        "learn.lr_find()\n",
        "learn.sched.plot()"
      ],
      "execution_count": 0,
      "outputs": []
    },
    {
      "metadata": {
        "id": "6Gc-CqHP4pPN",
        "colab_type": "code",
        "colab": {}
      },
      "cell_type": "code",
      "source": [
        "#fit for a while new model\n",
        "lr=5e-3\n",
        "learn.fit(lr, 4, cycle_len=1, cycle_mult=2)"
      ],
      "execution_count": 0,
      "outputs": []
    },
    {
      "metadata": {
        "id": "00APDoqMUXNL",
        "colab_type": "code",
        "colab": {}
      },
      "cell_type": "code",
      "source": [
        "lrs = np.array([lr/9,lr/3,lr])"
      ],
      "execution_count": 0,
      "outputs": []
    },
    {
      "metadata": {
        "id": "kUMXWkugUYre",
        "colab_type": "code",
        "colab": {}
      },
      "cell_type": "code",
      "source": [
        "learn.unfreeze()\n",
        "learn.fit(lrs, 4, cycle_len=1, cycle_mult=2)"
      ],
      "execution_count": 0,
      "outputs": []
    },
    {
      "metadata": {
        "id": "ARGDP8hUYEqp",
        "colab_type": "code",
        "colab": {}
      },
      "cell_type": "code",
      "source": [
        "sz=256\n",
        "learn.set_data(get_data(sz))\n",
        "learn.freeze()\n",
        "learn.lr_find()\n",
        "learn.sched.plot()"
      ],
      "execution_count": 0,
      "outputs": []
    },
    {
      "metadata": {
        "id": "01iOr4DzakAw",
        "colab_type": "code",
        "colab": {}
      },
      "cell_type": "code",
      "source": [
        "\n",
        "learn.fit(lr, 3, cycle_len=1, cycle_mult=2)"
      ],
      "execution_count": 0,
      "outputs": []
    },
    {
      "metadata": {
        "id": "nN5u8b6_axr1",
        "colab_type": "code",
        "colab": {}
      },
      "cell_type": "code",
      "source": [
        "lrs = np.array([lr/9,lr/3,lr])"
      ],
      "execution_count": 0,
      "outputs": []
    },
    {
      "metadata": {
        "id": "GdZGeEpNaxGX",
        "colab_type": "code",
        "colab": {}
      },
      "cell_type": "code",
      "source": [
        "learn.unfreeze()\n",
        "learn.fit(lrs, 3, cycle_len=1, cycle_mult=2)\n",
        "learn.save(f'{sz}')"
      ],
      "execution_count": 0,
      "outputs": []
    },
    {
      "metadata": {
        "id": "YZEhRVsGH_WK",
        "colab_type": "text"
      },
      "cell_type": "markdown",
      "source": [
        "### Save best model:"
      ]
    },
    {
      "metadata": {
        "id": "ji3HapVLIBRs",
        "colab_type": "code",
        "colab": {}
      },
      "cell_type": "code",
      "source": [
        "class SaveBestModel(LossRecorder):\n",
        "    def __init__(self, model, lr, name='best_model'):\n",
        "        super().__init__(model.get_layer_opt(lr, None))\n",
        "        self.name = name\n",
        "        self.model = model\n",
        "        self.best_loss = None\n",
        "        self.best_acc = None\n",
        "\n",
        "    def on_epoch_end(self, metrics):\n",
        "        super().on_epoch_end(metrics)\n",
        "        loss, acc = metrics\n",
        "        if self.best_acc == None or acc > self.best_acc:\n",
        "            self.best_acc = acc\n",
        "            self.best_loss = loss\n",
        "            self.model.save(f'{self.name}')\n",
        "        elif acc == self.best_acc and  loss < self.best_loss:\n",
        "            self.best_loss = loss\n",
        "            self.model.save(f'{self.name}')"
      ],
      "execution_count": 0,
      "outputs": []
    },
    {
      "metadata": {
        "id": "hx1wV7-dIHGS",
        "colab_type": "code",
        "colab": {}
      },
      "cell_type": "code",
      "source": [
        "lr = np.array([lrf/25., lrf/5., lrf])\n",
        "my_cb = SaveBestModel(learn, lr, name='best_sgdr')\n",
        "learn.fit(lr, 2, cycle_len=2, cycle_mult=1, callbacks=[my_cb])"
      ],
      "execution_count": 0,
      "outputs": []
    },
    {
      "metadata": {
        "id": "AdP37wx-IIf-",
        "colab_type": "code",
        "colab": {}
      },
      "cell_type": "code",
      "source": [
        "learn.load('best_sgdr')\n",
        "learn.TTA()"
      ],
      "execution_count": 0,
      "outputs": []
    },
    {
      "metadata": {
        "id": "VnbyEavObO3t",
        "colab_type": "text"
      },
      "cell_type": "markdown",
      "source": [
        "### Preparing Submission:"
      ]
    },
    {
      "metadata": {
        "id": "i578vupFJQZM",
        "colab_type": "code",
        "colab": {}
      },
      "cell_type": "code",
      "source": [
        "def opt_th(preds, targs, start=0.17, end=0.24, step=0.01):\n",
        "    ths = np.arange(start,end,step)\n",
        "    idx = np.argmax([fbeta_score(targs, (preds>th), 2, average='samples')\n",
        "                for th in ths])\n",
        "    return ths[idx]"
      ],
      "execution_count": 0,
      "outputs": []
    },
    {
      "metadata": {
        "id": "-a8_0E6YJRXu",
        "colab_type": "code",
        "colab": {}
      },
      "cell_type": "code",
      "source": [
        "probs = learn.predict() #returns prediction without TTA\n",
        "f2_without_TTA =f1(probs, data.val_y)\n",
        "probs,y = learn.TTA()\n",
        "probs = np.mean(probs, axis=0)\n",
        "f2_with_TTA = f1(probs, y)\n",
        "print(f\"F2 Score without TTA:{f2_without_TTA},   and with TTA:{f2_with_TTA}\")"
      ],
      "execution_count": 0,
      "outputs": []
    },
    {
      "metadata": {
        "id": "_G_-fgEYJd9e",
        "colab_type": "code",
        "colab": {}
      },
      "cell_type": "code",
      "source": [
        "learn.save('resnet34.weights.1')"
      ],
      "execution_count": 0,
      "outputs": []
    },
    {
      "metadata": {
        "id": "PEhytEZ5SMF7",
        "colab_type": "code",
        "colab": {}
      },
      "cell_type": "code",
      "source": [
        "learn.load('resnet34.weights.1')"
      ],
      "execution_count": 0,
      "outputs": []
    },
    {
      "metadata": {
        "id": "6XmRgqVgJd1_",
        "colab_type": "code",
        "colab": {}
      },
      "cell_type": "code",
      "source": [
        "print(probs[0])\n",
        "print(y[0])"
      ],
      "execution_count": 0,
      "outputs": []
    },
    {
      "metadata": {
        "id": "KuQ9zWTDbY3Z",
        "colab_type": "code",
        "colab": {}
      },
      "cell_type": "code",
      "source": [
        "threshold = opt_th(probs, y)\n",
        "print(threshold)"
      ],
      "execution_count": 0,
      "outputs": []
    },
    {
      "metadata": {
        "id": "q6F5Z1MIRG5P",
        "colab_type": "code",
        "colab": {}
      },
      "cell_type": "code",
      "source": [
        "!ls {'data/protein/test'}"
      ],
      "execution_count": 0,
      "outputs": []
    },
    {
      "metadata": {
        "id": "snPzscvBRizv",
        "colab_type": "code",
        "colab": {}
      },
      "cell_type": "code",
      "source": [
        "!rm -r data/protein/test/green"
      ],
      "execution_count": 0,
      "outputs": []
    },
    {
      "metadata": {
        "id": "vAkrkQzSRrW2",
        "colab_type": "code",
        "colab": {}
      },
      "cell_type": "code",
      "source": [
        "!mv data/protein/test/green/*.png data/protein/test"
      ],
      "execution_count": 0,
      "outputs": []
    },
    {
      "metadata": {
        "id": "U0BRQNFSRFXP",
        "colab_type": "code",
        "colab": {}
      },
      "cell_type": "code",
      "source": [
        "%%bash\n",
        "pwd\n",
        "cd data\n",
        "cd protein\n",
        "cd test\n",
        "mv *_blue* blue"
      ],
      "execution_count": 0,
      "outputs": []
    },
    {
      "metadata": {
        "id": "oguSWe5hMHhC",
        "colab_type": "code",
        "colab": {}
      },
      "cell_type": "code",
      "source": [
        "%time test_preds, _ = learn.TTA(is_test=True)\n",
        "preds = np.mean(test_preds, axis=0)\n",
        "classes = np.array(data.classes)\n",
        "res = np.array([\" \".join(classes[(np.where(pp>threshold))]) for pp in preds])\n",
        "filenames = np.array([os.path.basename(fn).split('_')[0] for fn in data.test_ds.fnames])\n"
      ],
      "execution_count": 0,
      "outputs": []
    },
    {
      "metadata": {
        "id": "6ZqvftyYMd5B",
        "colab_type": "code",
        "colab": {}
      },
      "cell_type": "code",
      "source": [
        "path = 'data/protein'\n",
        "#df = pd.DataFrame({'Id':test_ids,'Predicted':pred_labels})\n",
        "frame = pd.DataFrame({'Id':filenames, 'Predicted':res})\n",
        "#frame=pd.DataFrame(res, index=filenames, columns=['tags'])\n",
        "frame.to_csv(f'{path}planet_amazon_restnet34_submission1.csv', header=True, index=False)"
      ],
      "execution_count": 0,
      "outputs": []
    },
    {
      "metadata": {
        "id": "NDgAmAQyVRJZ",
        "colab_type": "code",
        "colab": {}
      },
      "cell_type": "code",
      "source": [
        "!mv data/proteinplanet_amazon_restnet34_submission1.csv /content"
      ],
      "execution_count": 0,
      "outputs": []
    },
    {
      "metadata": {
        "id": "bQUmgcstU08_",
        "colab_type": "code",
        "colab": {}
      },
      "cell_type": "code",
      "source": [
        "x = frame.sort_index()\n",
        "x.head()"
      ],
      "execution_count": 0,
      "outputs": []
    },
    {
      "metadata": {
        "id": "ECVwUnoFUMdx",
        "colab_type": "code",
        "colab": {}
      },
      "cell_type": "code",
      "source": [
        "sample = pd.read_csv('sample_submission.csv')\n",
        "sample.head()"
      ],
      "execution_count": 0,
      "outputs": []
    },
    {
      "metadata": {
        "id": "imWLkeNSWFV7",
        "colab_type": "code",
        "colab": {}
      },
      "cell_type": "code",
      "source": [
        "import pandas as pd\n",
        "\n",
        "f1 = pd.read_csv('sample_submission.csv')\n",
        "f1.drop('Predicted', axis=1, inplace=True)\n",
        "f2 = pd.read_csv('proteinplanet_amazon_restnet34_submission1.csv')\n",
        "f1 = f1.merge(f2, left_on='Id', right_on='Id', how='outer')\n",
        "f1.to_csv('my_new_submission.csv', index=False)"
      ],
      "execution_count": 0,
      "outputs": []
    },
    {
      "metadata": {
        "id": "5jDSPkLZWLSI",
        "colab_type": "code",
        "colab": {}
      },
      "cell_type": "code",
      "source": [
        "x=pd.read_csv('my_new_submission.csv')\n",
        "x.head()"
      ],
      "execution_count": 0,
      "outputs": []
    }
  ]
}