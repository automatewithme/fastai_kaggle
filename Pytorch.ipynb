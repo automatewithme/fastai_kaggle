{
  "nbformat": 4,
  "nbformat_minor": 0,
  "metadata": {
    "colab": {
      "name": "Pytorch.ipynb",
      "version": "0.3.2",
      "provenance": [],
      "collapsed_sections": [
        "x-x49a6miaLe",
        "L1Eb1moWye2C",
        "1zNORa_Viee2"
      ]
    },
    "kernelspec": {
      "name": "python3",
      "display_name": "Python 3"
    },
    "accelerator": "GPU"
  },
  "cells": [
    {
      "metadata": {
        "id": "x-x49a6miaLe",
        "colab_type": "text"
      },
      "cell_type": "markdown",
      "source": [
        "### Imports"
      ]
    },
    {
      "metadata": {
        "id": "x3r6HRWRWVKi",
        "colab_type": "text"
      },
      "cell_type": "markdown",
      "source": [
        "***FASTAI V1***"
      ]
    },
    {
      "metadata": {
        "id": "l7Dke5UTMKA7",
        "colab_type": "code",
        "colab": {}
      },
      "cell_type": "code",
      "source": [
        "# http://pytorch.org/\n",
        "from os.path import exists\n",
        "from wheel.pep425tags import get_abbr_impl, get_impl_ver, get_abi_tag\n",
        "platform = '{}{}-{}'.format(get_abbr_impl(), get_impl_ver(), get_abi_tag())\n",
        "cuda_output = !ldconfig -p|grep cudart.so|sed -e 's/.*\\.\\([0-9]*\\)\\.\\([0-9]*\\)$/cu\\1\\2/'\n",
        "accelerator = cuda_output[0] if exists('/dev/nvidia0') else 'cpu'\n",
        "!pip install torch_nightly -f https://download.pytorch.org/whl/nightly/{accelerator}/torch_nightly.html\n",
        "  \n",
        "import torch\n",
        "print(torch.__version__)\n",
        "print(torch.cuda.is_available())\n",
        "print(torch.backends.cudnn.enabled)\n",
        "\n",
        "!pip install fastai\n",
        "\n",
        "import fastai\n",
        "from fastai import *\n",
        "from fastai.vision import *"
      ],
      "execution_count": 0,
      "outputs": []
    },
    {
      "metadata": {
        "id": "joL6hrzbMOEl",
        "colab_type": "code",
        "colab": {}
      },
      "cell_type": "code",
      "source": [
        "!wget --header=\"Host: storage.googleapis.com\" --header=\"User-Agent: Mozilla/5.0 (Windows NT 6.1) AppleWebKit/537.36 (KHTML, like Gecko) Chrome/71.0.3578.98 Safari/537.36\" --header=\"Accept: text/html,application/xhtml+xml,application/xml;q=0.9,image/webp,image/apng,*/*;q=0.8\" --header=\"Accept-Language: en-US,en;q=0.9\" --header=\"Referer: https://www.kaggle.com/\" \"https://storage.googleapis.com/kaggle-competitions-data/kaggle/10418/123020/sample_submission.csv?GoogleAccessId=web-data@kaggle-161607.iam.gserviceaccount.com&Expires=1546326541&Signature=WfpXoHo9ZEdhCOlmzM9xAWqSXf4as%2BpzI6qIMMop8xRBfLV2eBan5p%2B92oQwvzYP%2F%2FqjE%2FOvU7w1SHFM6sinAD8rz5ElYkVyc8yN15f00ajjFWlTKDqFAtn4eyYZM8e9dKBrl3M2YBZlBwBc77cLX5rO%2B5NVPCzpXcne%2BT1PnztiYds5rGo0T46HNPvV3XYl6sM3nXlnupkw%2Fi%2BeucwAWnC%2B1LpvpWVvAXOY9DJchal6r4Z1QD5EEfkbUbFT0MIoaN2g5%2B3lqDYbet0zQtk0BK5II%2BHNodacslHpf77RQvPmpHEXg52uOi2K3XelgDtT39DmZBn4RByrJoy%2FnXrdIA%3D%3D\" -O \"sample_submission.csv\" -c"
      ],
      "execution_count": 0,
      "outputs": []
    },
    {
      "metadata": {
        "id": "fhEFzvelMQxI",
        "colab_type": "code",
        "colab": {}
      },
      "cell_type": "code",
      "source": [
        "!wget --header=\"Host: storage.googleapis.com\" --header=\"User-Agent: Mozilla/5.0 (Windows NT 6.1) AppleWebKit/537.36 (KHTML, like Gecko) Chrome/71.0.3578.98 Safari/537.36\" --header=\"Accept: text/html,application/xhtml+xml,application/xml;q=0.9,image/webp,image/apng,*/*;q=0.8\" --header=\"Accept-Language: en-US,en;q=0.9\" --header=\"Referer: https://www.kaggle.com/\" \"https://storage.googleapis.com/kaggle-competitions-data/kaggle/10418/123020/train.csv?GoogleAccessId=web-data@kaggle-161607.iam.gserviceaccount.com&Expires=1546326563&Signature=X15seZbJM9G1UsHs8FjI0IjgPjUuxaMOTX6FFPU672HTxxjxFaF98YDRxe0h4x6xRIIohG3VxGyz3TIIKMh2Q68xyXgedXK0qpmYajmZENR6opMH61GD5UtGcn%2FiaQq841xAgIhhANNbbeMHnMJGmV5TzNk%2BUgBbU%2B85kt5UQxD%2Bywv05ZdKLBBkhAiZFUWUD48rEaLgMWJW32Hvr7jTHD65a5%2FRABSIFbTKNAUjXwLwgqwBMFhOHCJWC%2FZkwIeYBS2Q4MpftGQ5IlvA%2BSQS9iuk9GWq7il67sVb8MPzRAihV%2BbZ7RLl814VLxMDDlmrqMdqsteVrjdOGsF0t17GEw%3D%3D\" -O \"train.csv\" -c"
      ],
      "execution_count": 0,
      "outputs": []
    },
    {
      "metadata": {
        "id": "RYO4GwauMRqy",
        "colab_type": "code",
        "colab": {}
      },
      "cell_type": "code",
      "source": [
        "!wget --header=\"Host: storage.googleapis.com\" --header=\"User-Agent: Mozilla/5.0 (Windows NT 6.1) AppleWebKit/537.36 (KHTML, like Gecko) Chrome/71.0.3578.98 Safari/537.36\" --header=\"Accept: text/html,application/xhtml+xml,application/xml;q=0.9,image/webp,image/apng,*/*;q=0.8\" --header=\"Accept-Language: en-US,en;q=0.9\" --header=\"Referer: https://www.kaggle.com/\" \"https://storage.googleapis.com/kaggle-competitions-data/kaggle/10418/123020/test.zip?GoogleAccessId=web-data@kaggle-161607.iam.gserviceaccount.com&Expires=1546326580&Signature=Xp4Ov64X%2BxooAFT8Lj2P9OdiAVneDHABZMUcJD5HXvy%2FR5%2F%2B9iGVCS08DDi04P%2F8wqScwDVreRpEE6xNvZzXcdxQ0AZ0xcpP6A8IAzKTEOLed%2BqCxf7YZXJJW75vMfRgqDvN7MjsrcGYXFGtBUaj6CtVcqdJ59AYbjKFaoJzjtW4rMHRRTwozTBdVoUq7Ru36fMcjb9MjMZZhkKdyNr9TaMo2Tiw1MEBxz4R3Wax%2B%2BxEZWFksXfdNCljX4c4RbV1y7yeIiUBIuZu1X8rsmZcVCyDxRrrgaxf%2BtCrPLLcSMFkHtaoLJeIrHj249cHqT5CeRx7fZAtnVlQZIE6bScuww%3D%3D\" -O \"test.zip\" -c"
      ],
      "execution_count": 0,
      "outputs": []
    },
    {
      "metadata": {
        "id": "2nnBULr4MSe7",
        "colab_type": "code",
        "colab": {}
      },
      "cell_type": "code",
      "source": [
        "!wget --header=\"Host: storage.googleapis.com\" --header=\"User-Agent: Mozilla/5.0 (Windows NT 6.1) AppleWebKit/537.36 (KHTML, like Gecko) Chrome/71.0.3578.98 Safari/537.36\" --header=\"Accept: text/html,application/xhtml+xml,application/xml;q=0.9,image/webp,image/apng,*/*;q=0.8\" --header=\"Accept-Language: en-US,en;q=0.9\" --header=\"Referer: https://www.kaggle.com/\" \"https://storage.googleapis.com/kaggle-competitions-data/kaggle/10418/123020/train.zip?GoogleAccessId=web-data@kaggle-161607.iam.gserviceaccount.com&Expires=1546326595&Signature=AROAHUrXLjjgx2gyElYptPVyBh3sn8jPA%2FHcF2xureqQvF9AoWKT8QzM4Uqz2WvswqExQ1nJrYb747i2%2BT6DDQuvgMarjpfopKt%2FcUvHEbLpHbGRwPjiPW5M11h5ElC9wy%2BCC2YA25O2FOVN47iwq%2BgRHymkGla2T1kfUNBtQEcj57pjwQXzAYQ%2F91I6DpakdPVqPNW6FBUqTNWUyS%2Fug%2FXUOlA6h9fgMmNPR7QgS7RLcYXUCwGAZqqHSNbNfJyZqBQOiqagRcUhduIsta%2BQBEo4JLo8%2B4EF%2Bqlaxg87MLSFmM58HP5OunXI9LqVO7Vuq9ulvixzyueQDoL7BspJbg%3D%3D\" -O \"train.zip\" -c"
      ],
      "execution_count": 0,
      "outputs": []
    },
    {
      "metadata": {
        "id": "cVKUxcZBMVNB",
        "colab_type": "code",
        "colab": {}
      },
      "cell_type": "code",
      "source": [
        "!mkdir data\n",
        "!mkdir data/protein"
      ],
      "execution_count": 0,
      "outputs": []
    },
    {
      "metadata": {
        "id": "UKzQMmPmMV8W",
        "colab_type": "code",
        "colab": {}
      },
      "cell_type": "code",
      "source": [
        "!unzip -qq train.zip -d data/protein/train"
      ],
      "execution_count": 0,
      "outputs": []
    },
    {
      "metadata": {
        "id": "LlZlTMSoMWur",
        "colab_type": "code",
        "colab": {}
      },
      "cell_type": "code",
      "source": [
        "!unzip -qq test.zip -d data/protein/test"
      ],
      "execution_count": 0,
      "outputs": []
    },
    {
      "metadata": {
        "id": "U1sr67y3MXeM",
        "colab_type": "code",
        "colab": {}
      },
      "cell_type": "code",
      "source": [
        "!mv train.csv data/protein"
      ],
      "execution_count": 0,
      "outputs": []
    },
    {
      "metadata": {
        "id": "26x-QoBEMoLj",
        "colab_type": "code",
        "colab": {}
      },
      "cell_type": "code",
      "source": [
        "!pip3 install torch torchvision"
      ],
      "execution_count": 0,
      "outputs": []
    },
    {
      "metadata": {
        "id": "BX8qn6wF3ZXg",
        "colab_type": "text"
      },
      "cell_type": "markdown",
      "source": [
        "### show samples using kaggle kernel"
      ]
    },
    {
      "metadata": {
        "id": "ehhhGVoo3crg",
        "colab_type": "code",
        "colab": {}
      },
      "cell_type": "code",
      "source": [
        "%matplotlib inline \n",
        "import matplotlib.pyplot as plt\n",
        "import numpy as np # linear algebra\n",
        "import pandas as pd # data processing, CSV file I/O (e.g. pd.read_csv)\n",
        "import os\n",
        "import time\n",
        "import copy\n",
        "\n",
        "\n",
        "from PIL import Image\n",
        "\n",
        "DATASET_SIZE = 8000\n",
        "BATCH_SIZE = 200\n",
        "W = H = 256\n",
        "\n",
        "train_path = 'data/protein/train/'\n",
        "test_path = 'data/protein/test/'\n",
        "\n",
        "LABEL_MAP = {\n",
        "0: \"Nucleoplasm\" ,\n",
        "1: \"Nuclear membrane\"   ,\n",
        "2: \"Nucleoli\"   ,\n",
        "3: \"Nucleoli fibrillar center\",   \n",
        "4: \"Nuclear speckles\"   ,\n",
        "5: \"Nuclear bodies\"   ,\n",
        "6: \"Endoplasmic reticulum\"   ,\n",
        "7: \"Golgi apparatus\"  ,\n",
        "8: \"Peroxisomes\"   ,\n",
        "9:  \"Endosomes\"   ,\n",
        "10: \"Lysosomes\"   ,\n",
        "11: \"Intermediate filaments\"  , \n",
        "12: \"Actin filaments\"   ,\n",
        "13: \"Focal adhesion sites\"  ,\n",
        "14: \"Microtubules\"   ,\n",
        "15: \"Microtubule ends\"   ,\n",
        "16: \"Cytokinetic bridge\"   ,\n",
        "17: \"Mitotic spindle\"  ,\n",
        "18: \"Microtubule organizing center\",  \n",
        "19: \"Centrosome\",\n",
        "20: \"Lipid droplets\"   ,\n",
        "21: \"Plasma membrane\"  ,\n",
        "22: \"Cell junctions\"   ,\n",
        "23: \"Mitochondria\"   ,\n",
        "24: \"Aggresome\"   ,\n",
        "25: \"Cytosol\" ,\n",
        "26: \"Cytoplasmic bodies\",\n",
        "27: \"Rods & rings\"}\n",
        "\n",
        "LABELS = []\n",
        "\n",
        "for label in LABEL_MAP.values():\n",
        "    LABELS.append(label)\n",
        "    \n",
        "train_csv_path = 'data/protein/train.csv'"
      ],
      "execution_count": 0,
      "outputs": []
    },
    {
      "metadata": {
        "id": "6Fi3Ofmu3i3c",
        "colab_type": "code",
        "outputId": "c8288e5f-1d7a-4f58-ae02-aacfe467b638",
        "colab": {
          "base_uri": "https://localhost:8080/",
          "height": 492
        }
      },
      "cell_type": "code",
      "source": [
        "df = pd.read_csv(train_csv_path)\n",
        "\n",
        "TRAINING_SAMPLES = df.shape[0]\n",
        "\n",
        "print(\"we have \" + str(TRAINING_SAMPLES) + \" different samples\")\n",
        "print(\"And there are \"+  str(len(df.Target.unique())) + \" different combinations of labels in our dataset\")\n",
        "\n",
        "import seaborn as sns\n",
        "sns.set(style=\"dark\")\n",
        "\n",
        "n = 20\n",
        "\n",
        "values = df['Target'].value_counts()[:n].keys().tolist()\n",
        "counts = df['Target'].value_counts()[:n].tolist()\n",
        "\n",
        "plt.figure(figsize=(6,6))\n",
        "pal = sns.cubehelix_palette(n, start=2, rot=0, dark=0, light=.75, reverse=True)\n",
        "g = sns.barplot(y=counts, x=values, palette=pal)\n",
        "g.set_title(str(n)+\" MOST COMMON LABEL COMBINATIONS\")\n",
        "g.set_xticklabels(g.get_xticklabels(),rotation=90);"
      ],
      "execution_count": 0,
      "outputs": [
        {
          "output_type": "stream",
          "text": [
            "we have 31072 different samples\n",
            "And there are 582 different combinations of labels in our dataset\n"
          ],
          "name": "stdout"
        },
        {
          "output_type": "stream",
          "text": [
            "/usr/local/lib/python3.6/dist-packages/seaborn/categorical.py:1428: FutureWarning: remove_na is deprecated and is a private function. Do not use.\n",
            "  stat_data = remove_na(group_data)\n"
          ],
          "name": "stderr"
        },
        {
          "output_type": "display_data",
          "data": {
            "image/png": "[encoded data removed]",
            "text/plain": [
              "<matplotlib.figure.Figure at 0x7fbf5c053080>"
            ]
          },
          "metadata": {
            "tags": []
          }
        }
      ]
    },
    {
      "metadata": {
        "id": "EqB7Dxq23izf",
        "colab_type": "code",
        "colab": {}
      },
      "cell_type": "code",
      "source": [
        "from PIL import Image\n",
        "\n",
        "def load_image(basepath, image_id):\n",
        "    images = np.zeros(shape=(256,256,4))\n",
        "    r = Image.open(basepath+image_id+\"_red.png\").resize((256,256))\n",
        "    g = Image.open(basepath+image_id+\"_green.png\").resize((256,256))\n",
        "    b = Image.open(basepath+image_id+\"_blue.png\").resize((256,256))\n",
        "    y = Image.open(basepath+image_id+\"_yellow.png\").resize((256,256))\n",
        "\n",
        "    images[:,:,0] = np.asarray(r)\n",
        "    images[:,:,1] = np.asarray(g)\n",
        "    images[:,:,2] = np.asarray(b)\n",
        "    images[:,:,3] = np.asarray(y)\n",
        "    \n",
        "    return images"
      ],
      "execution_count": 0,
      "outputs": []
    },
    {
      "metadata": {
        "id": "zRMdXbiJ3irn",
        "colab_type": "code",
        "colab": {}
      },
      "cell_type": "code",
      "source": [
        "targets = df['Target'].value_counts().keys()\n",
        "counts = df['Target'].value_counts().values\n",
        "\n",
        "how_many = counts/TRAINING_SAMPLES*DATASET_SIZE\n",
        "\n",
        "# at least one example of each possible combination of labels..\n",
        "how_many = how_many.astype('int')+1"
      ],
      "execution_count": 0,
      "outputs": []
    },
    {
      "metadata": {
        "id": "wEW5HeVX3ip-",
        "colab_type": "code",
        "colab": {}
      },
      "cell_type": "code",
      "source": [
        "import torch\n",
        "import numpy as np\n",
        "import pandas as pd\n",
        "from torch.utils.data import Dataset, DataLoader\n",
        "from torchvision import transforms, utils\n",
        "import warnings\n",
        "warnings.filterwarnings(\"ignore\")\n",
        "from skimage import io, transform\n",
        "from sklearn.preprocessing import MultiLabelBinarizer\n",
        "classes = np.arange(0,28)\n",
        "mlb = MultiLabelBinarizer(classes)\n",
        "mlb.fit(classes)\n",
        "\n",
        "class HumanProteinDataset(Dataset):\n",
        "\n",
        "    def __init__(self, csv_file,transform=None, test=False):\n",
        "        \"\"\"\n",
        "        Args:\n",
        "            csv_file (string): Path to the csv file with annotations.\n",
        "            test (Boolean): the csv no contains labels\n",
        "            transform (callable, optional): Optional transform to be applied\n",
        "                on a sample.\n",
        "        \"\"\"\n",
        "        self.test = test\n",
        "        self.complete_df = pd.read_csv(csv_file)\n",
        "        \n",
        "        if not test:\n",
        "            self.path = train_path\n",
        "            self.loadData()\n",
        "        else:\n",
        "            self.path = test_path\n",
        "            self.df = self.complete_df\n",
        "            \n",
        "        self.transform = transform\n",
        "        \n",
        "    def CreateDummyVariables(self):\n",
        "        self.complete_df['Targets'] = self.complete_df['Target'].map(lambda x: list(map(int, x.strip().split())))\n",
        "            \n",
        "    def loadData(self):\n",
        "        self.CreateDummyVariables()\n",
        "        self.df = pd.DataFrame(columns=['Id','Target'])\n",
        "        for i, target in enumerate(targets):\n",
        "            fdf = self.complete_df[self.complete_df['Target'] == target]\n",
        "            sample = fdf.sample(n=how_many[i], replace=False)\n",
        "            self.df = self.df.append(sample)\n",
        "        self.df = self.df.sample(frac=1).reset_index(drop=True)\n",
        "            \n",
        "    def __getitem__(self, idx):\n",
        "        \n",
        "        image = load_image(self.path, self.df['Id'].iloc[idx])\n",
        "        \n",
        "        sample = {'image': image}\n",
        "\n",
        "        if not self.test:\n",
        "            target = np.array(self.complete_df['Targets'].iloc[idx])\n",
        "            target = mlb.transform([target])\n",
        "            sample['target'] = target\n",
        "        \n",
        "        else:\n",
        "            sample['Id'] = self.df['Id'].iloc[idx]\n",
        "\n",
        "        if self.transform:\n",
        "            sample = self.transform(sample)\n",
        "        return sample\n",
        "    \n",
        "    def __len__(self):\n",
        "        return self.df.shape[0]\n",
        "    \n",
        "    def shape(self):\n",
        "        return self.df.shape\n",
        "    \n",
        "class ToTensor(object):\n",
        "    \"\"\"Convert ndarrays in sample to Tensors.\"\"\"\n",
        "\n",
        "    def __call__(self, sample):\n",
        "        \n",
        "        image = sample['image']/255.0\n",
        "        \n",
        "        totensor = transforms.ToTensor()\n",
        "        \n",
        "        ret = {'image': totensor(image)}\n",
        "        \n",
        "        if \"target\" in sample.keys():\n",
        "            target = sample['target'][0]\n",
        "            ret['target'] = target\n",
        "        else:\n",
        "            ret['Id'] = sample['Id']\n",
        "                  \n",
        "        return ret"
      ],
      "execution_count": 0,
      "outputs": []
    },
    {
      "metadata": {
        "id": "8MyBguc63ioG",
        "colab_type": "code",
        "colab": {}
      },
      "cell_type": "code",
      "source": [
        "dataset = HumanProteinDataset(train_csv_path, transform=ToTensor())"
      ],
      "execution_count": 0,
      "outputs": []
    },
    {
      "metadata": {
        "id": "p6cYSqqbQDKJ",
        "colab_type": "code",
        "outputId": "f4e48048-d3e2-49be-dc9f-fa24dfeb765e",
        "colab": {
          "base_uri": "https://localhost:8080/",
          "height": 68
        }
      },
      "cell_type": "code",
      "source": [
        "protein = pd.read_csv(train_csv_path)\n",
        "n=25\n",
        "img_name = protein.iloc[n,0]\n",
        "print('Image name: {}'.format(img_name))\n",
        "\n",
        "labels = protein.iloc[n,1:]\n",
        "labels = protein.iloc[n,1:]\n",
        "#print('Label shape: {}'.format(labels.shape))\n",
        "print('Labels: {}'.format(labels))"
      ],
      "execution_count": 0,
      "outputs": [
        {
          "output_type": "stream",
          "text": [
            "Image name: 004bf4c6-bbc6-11e8-b2bc-ac1f6b6435d0\n",
            "Labels: Target    16 6\n",
            "Name: 25, dtype: object\n"
          ],
          "name": "stdout"
        }
      ]
    },
    {
      "metadata": {
        "id": "8OccwxuIQGN-",
        "colab_type": "code",
        "outputId": "ebc89b9d-dd57-48c1-ecb9-101d61b9723c",
        "colab": {
          "base_uri": "https://localhost:8080/",
          "height": 85
        }
      },
      "cell_type": "code",
      "source": [
        "for i in range(len(dataset)):\n",
        "  sample = dataset[i]\n",
        "  print(i, sample['image'].shape, sample['target'].shape)\n",
        "  \n",
        "  if i == 3:\n",
        "    break"
      ],
      "execution_count": 0,
      "outputs": [
        {
          "output_type": "stream",
          "text": [
            "0 torch.Size([4, 256, 256]) (28,)\n",
            "1 torch.Size([4, 256, 256]) (28,)\n",
            "2 torch.Size([4, 256, 256]) (28,)\n",
            "3 torch.Size([4, 256, 256]) (28,)\n"
          ],
          "name": "stdout"
        }
      ]
    },
    {
      "metadata": {
        "id": "4g1Z1RN_3imq",
        "colab_type": "code",
        "colab": {}
      },
      "cell_type": "code",
      "source": [
        "def Show(sample):\n",
        "    f, (ax1,ax2,ax3,ax4) = plt.subplots(1, 4, figsize=(3,3), sharey=True)\n",
        "\n",
        "    title = ''\n",
        "    \n",
        "    labels =sample['target']\n",
        "                \n",
        "    for i, label in enumerate(LABELS):\n",
        "        if labels[i] == 1:\n",
        "            if title == '':\n",
        "                title += label\n",
        "            else:\n",
        "                title += \" & \" + label\n",
        "            \n",
        "    ax1.imshow(sample['image'][0,:,:],cmap=\"hot\")\n",
        "    ax1.set_title('Red')\n",
        "    ax2.imshow(sample['image'][1,:,:],cmap=\"copper\")\n",
        "    ax2.set_title('Green')\n",
        "    ax3.imshow(sample['image'][2,:,:],cmap=\"bone\")\n",
        "    ax3.set_title('Blue')\n",
        "    ax4.imshow(sample['image'][3,:,:],cmap=\"afmhot\")\n",
        "    ax4.set_title('Yellow')\n",
        "    f.suptitle(title, fontsize=20, y=0.62)"
      ],
      "execution_count": 0,
      "outputs": []
    },
    {
      "metadata": {
        "id": "ak-1RNY9FcKo",
        "colab_type": "code",
        "colab": {}
      },
      "cell_type": "code",
      "source": [
        "dataset.df.shape[0]"
      ],
      "execution_count": 0,
      "outputs": []
    },
    {
      "metadata": {
        "id": "zHmNv6cl3ikE",
        "colab_type": "code",
        "outputId": "d3620a7c-b6ac-4cd7-d29c-6c8d2c672146",
        "colab": {
          "base_uri": "https://localhost:8080/",
          "height": 644
        }
      },
      "cell_type": "code",
      "source": [
        "import random\n",
        "import cv2\n",
        "idxs = random.sample(range(1, dataset.df.shape[0]), 3)\n",
        "\n",
        "for idx in idxs:\n",
        "    Show(dataset[idx])"
      ],
      "execution_count": 0,
      "outputs": [
        {
          "output_type": "display_data",
          "data": {
            "image/png": "[encoded data removed]",
            "text/plain": [
              "<matplotlib.figure.Figure at 0x7fec6f0be0f0>"
            ]
          },
          "metadata": {
            "tags": []
          }
        },
        {
          "output_type": "display_data",
          "data": {
            "image/png": "[encoded data removed]",
            "text/plain": [
              "<matplotlib.figure.Figure at 0x7fec6ef30a58>"
            ]
          },
          "metadata": {
            "tags": []
          }
        },
        {
          "output_type": "display_data",
          "data": {
            "image/png": "[encoded data removed]",
            "text/plain": [
              "<matplotlib.figure.Figure at 0x7fec6ee14e80>"
            ]
          },
          "metadata": {
            "tags": []
          }
        }
      ]
    },
    {
      "metadata": {
        "id": "Lx9xSeMN3iiF",
        "colab_type": "code",
        "colab": {}
      },
      "cell_type": "code",
      "source": [
        "from torch.utils.data.sampler import SubsetRandomSampler\n",
        "from torch.optim import lr_scheduler\n",
        "import torch.optim as optim\n",
        "import torch.nn as nn\n",
        "import math\n",
        "\n",
        "def prepare_loaders():\n",
        "    dataset.loadData()\n",
        "    num_train = len(dataset)\n",
        "    indices = list(range(num_train))\n",
        "    val_size = int(0.45 * num_train) \n",
        "\n",
        "    # Random, non-contiguous split\n",
        "    validation_idx = np.random.choice(indices, size=val_size, replace=False)\n",
        "    train_idx = list(set(indices) - set(validation_idx))\n",
        "\n",
        "    train_sampler = SubsetRandomSampler(train_idx)\n",
        "    validation_sampler = SubsetRandomSampler(validation_idx)\n",
        "\n",
        "    dataset_sizes = {}\n",
        "\n",
        "    dataset_sizes['train'] = len(train_idx)\n",
        "    dataset_sizes['val'] = len(validation_idx)\n",
        "    \n",
        "    train_loader = DataLoader(dataset, batch_size=BATCH_SIZE,num_workers=0, sampler=train_sampler)\n",
        "    validation_loader = DataLoader(dataset, batch_size=BATCH_SIZE, num_workers=0,sampler=validation_sampler)\n",
        "\n",
        "    dataloaders = {}\n",
        "\n",
        "    dataloaders['train'] = train_loader\n",
        "    dataloaders['val'] = validation_loader\n",
        "    \n",
        "    return (dataloaders, dataset_sizes)"
      ],
      "execution_count": 0,
      "outputs": []
    },
    {
      "metadata": {
        "id": "aL81drcN3id9",
        "colab_type": "code",
        "outputId": "6a34801e-f7dd-48e0-e4dd-5efebbe8d626",
        "colab": {
          "base_uri": "https://localhost:8080/",
          "height": 204
        }
      },
      "cell_type": "code",
      "source": [
        "dataloaders, dataset_sizes = prepare_loaders()\n",
        "\n",
        "dataset.df.head()"
      ],
      "execution_count": 0,
      "outputs": [
        {
          "output_type": "execute_result",
          "data": {
            "text/html": [
              "<div>\n",
              "<style scoped>\n",
              "    .dataframe tbody tr th:only-of-type {\n",
              "        vertical-align: middle;\n",
              "    }\n",
              "\n",
              "    .dataframe tbody tr th {\n",
              "        vertical-align: top;\n",
              "    }\n",
              "\n",
              "    .dataframe thead th {\n",
              "        text-align: right;\n",
              "    }\n",
              "</style>\n",
              "<table border=\"1\" class=\"dataframe\">\n",
              "  <thead>\n",
              "    <tr style=\"text-align: right;\">\n",
              "      <th></th>\n",
              "      <th>Id</th>\n",
              "      <th>Target</th>\n",
              "      <th>Targets</th>\n",
              "    </tr>\n",
              "  </thead>\n",
              "  <tbody>\n",
              "    <tr>\n",
              "      <th>0</th>\n",
              "      <td>fa26988a-bbbb-11e8-b2ba-ac1f6b6435d0</td>\n",
              "      <td>0</td>\n",
              "      <td>[0]</td>\n",
              "    </tr>\n",
              "    <tr>\n",
              "      <th>1</th>\n",
              "      <td>3e43651c-bbb1-11e8-b2ba-ac1f6b6435d0</td>\n",
              "      <td>23 4</td>\n",
              "      <td>[23, 4]</td>\n",
              "    </tr>\n",
              "    <tr>\n",
              "      <th>2</th>\n",
              "      <td>94fa2a8a-bbca-11e8-b2bc-ac1f6b6435d0</td>\n",
              "      <td>12 0 21</td>\n",
              "      <td>[12, 0, 21]</td>\n",
              "    </tr>\n",
              "    <tr>\n",
              "      <th>3</th>\n",
              "      <td>bfeed5b0-bbb6-11e8-b2ba-ac1f6b6435d0</td>\n",
              "      <td>3</td>\n",
              "      <td>[3]</td>\n",
              "    </tr>\n",
              "    <tr>\n",
              "      <th>4</th>\n",
              "      <td>b4c46282-bb9c-11e8-b2b9-ac1f6b6435d0</td>\n",
              "      <td>7</td>\n",
              "      <td>[7]</td>\n",
              "    </tr>\n",
              "  </tbody>\n",
              "</table>\n",
              "</div>"
            ],
            "text/plain": [
              "                                     Id   Target      Targets\n",
              "0  fa26988a-bbbb-11e8-b2ba-ac1f6b6435d0        0          [0]\n",
              "1  3e43651c-bbb1-11e8-b2ba-ac1f6b6435d0     23 4      [23, 4]\n",
              "2  94fa2a8a-bbca-11e8-b2bc-ac1f6b6435d0  12 0 21  [12, 0, 21]\n",
              "3  bfeed5b0-bbb6-11e8-b2ba-ac1f6b6435d0        3          [3]\n",
              "4  b4c46282-bb9c-11e8-b2b9-ac1f6b6435d0        7          [7]"
            ]
          },
          "metadata": {
            "tags": []
          },
          "execution_count": 10
        }
      ]
    },
    {
      "metadata": {
        "id": "vIr0xWMRS0XI",
        "colab_type": "code",
        "colab": {}
      },
      "cell_type": "code",
      "source": [
        "class CNN(nn.Module):\n",
        "    def __init__(self):\n",
        "        super(CNN, self).__init__()\n",
        "        self.conv1 = nn.Sequential(      #input: 4xWxH\n",
        "            nn.Conv2d(4,8,5,1,2),        # input_channels, output_channels, kernel_size, stride, padding   \n",
        "            nn.ReLU(),                      \n",
        "            nn.MaxPool2d(kernel_size=2), #output: 8xW/2xH/2\n",
        "        )\n",
        "        self.conv2 = nn.Sequential(      #input: 4xWxH\n",
        "            nn.Conv2d(8,16,5,1,2),        # input_channels, output_channels, kernel_size, stride, padding   \n",
        "            nn.ReLU(),                      \n",
        "            nn.MaxPool2d(kernel_size=2), #output: 16xW/4xH/4\n",
        "        )\n",
        "        self.drop_out = nn.Dropout()\n",
        "        self.out1 = nn.Linear( int(16 * W/4 * H/4), 900)   # fully connected layer, output 28 classes\n",
        "        self.out2 = nn.Linear( 900, 28)   # fully connected layer, output 28 classes\n",
        "\n",
        "    def forward(self, x):\n",
        "        x = self.conv1(x)\n",
        "        x = self.conv2(x)\n",
        "        x = x.view(x.size(0), -1)           # flatten the output of conv2 to (batch_size, 32 * 7 * 7)\n",
        "        output = self.drop_out(x)\n",
        "        output = self.out1(x)\n",
        "        output = self.out2(output)\n",
        "        return output, x    # return x for visualization\n",
        "\n",
        "def init_weights(m):\n",
        "        if type(m) == nn.Linear:\n",
        "            torch.nn.init.xavier_uniform(m.weight)\n",
        "            m.bias.data.fill_(0.01)"
      ],
      "execution_count": 0,
      "outputs": []
    },
    {
      "metadata": {
        "id": "soWdKCU-ToSw",
        "colab_type": "code",
        "colab": {}
      },
      "cell_type": "code",
      "source": [
        "dataloaders, dataset_sizes = prepare_loaders()"
      ],
      "execution_count": 0,
      "outputs": []
    },
    {
      "metadata": {
        "id": "W0ESX4TyTpPH",
        "colab_type": "code",
        "colab": {}
      },
      "cell_type": "code",
      "source": [
        "losses = {}\n",
        "accuracys = {}\n",
        "\n",
        "losses['train'] = []\n",
        "losses['val'] = []\n",
        "accuracys['train'] = []\n",
        "accuracys['val'] = []"
      ],
      "execution_count": 0,
      "outputs": []
    },
    {
      "metadata": {
        "id": "5f-DacL0TsZ0",
        "colab_type": "code",
        "colab": {}
      },
      "cell_type": "code",
      "source": [
        "def Train(model, epochs=10, criterion=nn.BCEWithLogitsLoss(reduction='sum'), optimizer= None):\n",
        "    since = time.time()\n",
        "\n",
        "    best_model_wts = copy.deepcopy(model.state_dict())\n",
        "    best_acc = 0.0\n",
        "\n",
        "\n",
        "    if optimizer == None:\n",
        "        optimizer = optim.Adam(model.parameters(), lr=0.04, betas=(0.9, 0.99))\n",
        "    \n",
        "    device = torch.device(\"cuda:0\" if torch.cuda.is_available() else \"cpu\")\n",
        "    print(\"training with device: \" + str(device))\n",
        "    \n",
        "    model.to(device)\n",
        "    \n",
        "    for epoch in range(epochs):  # loop over the dataset multiple times\n",
        "        print('Epoch {}/{}'.format(epoch+1, epochs))\n",
        "        print('-' * 10)\n",
        "        \n",
        "        for phase in ['train', 'val']:\n",
        "            if phase == 'train':\n",
        "                model.train()  # Set model to training mode\n",
        "            else:\n",
        "                model.eval()   # Set model to evaluate mode\n",
        "                \n",
        "            running_loss = 0.0    \n",
        "            running_corrects = 0.0\n",
        "    \n",
        "            for i, data in enumerate(dataloaders[phase], 0):            \n",
        "                # get the inputs\n",
        "                inputs, labels = data['image'], data['target']\n",
        "\n",
        "                inputs, labels = inputs.to(device,dtype=torch.float), labels.to(device,dtype=torch.float)\n",
        "\n",
        "                # zero the parameter gradients\n",
        "                optimizer.zero_grad()\n",
        "                \n",
        "                # forward\n",
        "                # track history if only in train\n",
        "                with torch.set_grad_enabled(phase == 'train'):\n",
        "                    outputs = model(inputs)[0]\n",
        "                    preds = outputs > 0\n",
        "                    loss = criterion(outputs, labels)\n",
        "\n",
        "                    # backward + optimize only if in training phase\n",
        "                    if phase == 'train':\n",
        "                        loss.backward()\n",
        "                        optimizer.step()\n",
        "                        \n",
        "                 # statistics\n",
        "                running_loss += loss.item() * inputs.size(0)\n",
        "                labels = labels.data.byte()\n",
        "                running_corrects += torch.sum((labels == preds).all(1))\n",
        "                                \n",
        "            epoch_loss = running_loss / dataset_sizes[phase]\n",
        "            epoch_acc = running_corrects.float() / dataset_sizes[phase]\n",
        "            print('{} Loss: {:.4f} Acc: {:.4f}'.format(phase, epoch_loss, epoch_acc))\n",
        "            \n",
        "            losses[phase].append(epoch_loss)\n",
        "            accuracys[phase].append(epoch_acc)\n",
        "            \n",
        "            # deep copy the model\n",
        "            if phase == 'val' and epoch_acc > best_acc:\n",
        "                best_acc = epoch_acc\n",
        "                best_model_wts = copy.deepcopy(model.state_dict())\n",
        "                \n",
        "                \n",
        "\n",
        "    time_elapsed = time.time() - since\n",
        "    print('Training complete in {:.0f}m {:.0f}s'.format(\n",
        "        time_elapsed // 60, time_elapsed % 60))\n",
        "    print('Best val Acc: {:4f}'.format(best_acc))\n",
        "\n",
        "    # load best model weights\n",
        "    model.load_state_dict(best_model_wts)\n",
        "    return model\n",
        "\n",
        "\n",
        "def run_model(model,batch):\n",
        "    device = torch.device(\"cuda:0\" if torch.cuda.is_available() else \"cpu\")\n",
        "    model.to(device)\n",
        "    inputs = batch\n",
        "    inputs = inputs.to(device,dtype=torch.float)\n",
        "    out = model(inputs)\n",
        "    out = out[0].cpu()\n",
        "    return out"
      ],
      "execution_count": 0,
      "outputs": []
    },
    {
      "metadata": {
        "id": "8_TvjRg-S3yk",
        "colab_type": "code",
        "outputId": "e6aa04e8-a286-48d0-da31-4a9604508f8a",
        "colab": {
          "base_uri": "https://localhost:8080/",
          "height": 292
        }
      },
      "cell_type": "code",
      "source": [
        "# model creation and initialization\n",
        "cnn = CNN()\n",
        "cnn.apply(init_weights)"
      ],
      "execution_count": 0,
      "outputs": [
        {
          "output_type": "execute_result",
          "data": {
            "text/plain": [
              "CNN(\n",
              "  (conv1): Sequential(\n",
              "    (0): Conv2d(4, 8, kernel_size=(5, 5), stride=(1, 1), padding=(2, 2))\n",
              "    (1): ReLU()\n",
              "    (2): MaxPool2d(kernel_size=2, stride=2, padding=0, dilation=1, ceil_mode=False)\n",
              "  )\n",
              "  (conv2): Sequential(\n",
              "    (0): Conv2d(8, 16, kernel_size=(5, 5), stride=(1, 1), padding=(2, 2))\n",
              "    (1): ReLU()\n",
              "    (2): MaxPool2d(kernel_size=2, stride=2, padding=0, dilation=1, ceil_mode=False)\n",
              "  )\n",
              "  (drop_out): Dropout(p=0.5)\n",
              "  (out1): Linear(in_features=65536, out_features=900, bias=True)\n",
              "  (out2): Linear(in_features=900, out_features=28, bias=True)\n",
              ")"
            ]
          },
          "metadata": {
            "tags": []
          },
          "execution_count": 15
        }
      ]
    },
    {
      "metadata": {
        "id": "QXxG_0-rTN32",
        "colab_type": "code",
        "outputId": "09b25c15-c1cc-4828-cdf3-f9d8cca18771",
        "colab": {
          "base_uri": "https://localhost:8080/",
          "height": 748
        }
      },
      "cell_type": "code",
      "source": [
        "# training\n",
        "torch.cuda.empty_cache()\n",
        "cnn = Train(cnn, epochs=10,  criterion=nn.BCEWithLogitsLoss(reduction='sum'), optimizer = optim.Adam(cnn.parameters(), lr=0.001, betas=(0.9, 0.99)))"
      ],
      "execution_count": 0,
      "outputs": [
        {
          "output_type": "stream",
          "text": [
            "training with device: cuda:0\n",
            "Epoch 1/10\n",
            "----------\n",
            "train Loss: 2212.9172 Acc: 0.0345\n",
            "val Loss: 1052.4350 Acc: 0.0000\n",
            "Epoch 2/10\n",
            "----------\n",
            "train Loss: 1027.7656 Acc: 0.0216\n",
            "val Loss: 982.1511 Acc: 0.0000\n",
            "Epoch 3/10\n",
            "----------\n",
            "train Loss: 978.5655 Acc: 0.0074\n",
            "val Loss: 972.1999 Acc: 0.0000\n",
            "Epoch 4/10\n",
            "----------\n",
            "train Loss: 969.9684 Acc: 0.0087\n",
            "val Loss: 968.5368 Acc: 0.0000\n",
            "Epoch 5/10\n",
            "----------\n",
            "train Loss: 962.7726 Acc: 0.0048\n",
            "val Loss: 969.4554 Acc: 0.0021\n",
            "Epoch 6/10\n",
            "----------\n",
            "train Loss: 955.2962 Acc: 0.0033\n",
            "val Loss: 970.5973 Acc: 0.0008\n",
            "Epoch 7/10\n",
            "----------\n",
            "train Loss: 947.1839 Acc: 0.0026\n",
            "val Loss: 972.6491 Acc: 0.0182\n",
            "Epoch 8/10\n",
            "----------\n",
            "train Loss: 934.9719 Acc: 0.0153\n",
            "val Loss: 978.9040 Acc: 0.0379\n",
            "Epoch 9/10\n",
            "----------\n",
            "train Loss: 918.7907 Acc: 0.0208\n",
            "val Loss: 985.4251 Acc: 0.0227\n",
            "Epoch 10/10\n",
            "----------\n",
            "train Loss: 895.3828 Acc: 0.0269\n",
            "val Loss: 998.4381 Acc: 0.0203\n",
            "Training complete in 26m 8s\n",
            "Best val Acc: 0.037917\n"
          ],
          "name": "stdout"
        }
      ]
    },
    {
      "metadata": {
        "id": "G0xUNhFBTzr8",
        "colab_type": "code",
        "outputId": "bcc22b93-1e2a-47c4-d305-911fbc5771b3",
        "colab": {
          "base_uri": "https://localhost:8080/",
          "height": 1479
        }
      },
      "cell_type": "code",
      "source": [
        "# training\n",
        "torch.cuda.empty_cache()\n",
        "cnn = Train(cnn, epochs=10,  criterion=nn.BCEWithLogitsLoss(reduction='sum'), optimizer = optim.Adam(cnn.parameters(), lr=0.001, betas=(0.9, 0.99)))\n",
        "dataloaders, dataset_sizes = prepare_loaders()\n",
        "torch.cuda.empty_cache()\n",
        "cnn = Train(cnn, epochs=10,  criterion=nn.BCEWithLogitsLoss(reduction='sum'), optimizer = optim.Adam(cnn.parameters(), lr=0.001, betas=(0.9, 0.99)))"
      ],
      "execution_count": 0,
      "outputs": [
        {
          "output_type": "stream",
          "text": [
            "training with device: cuda:0\n",
            "Epoch 1/10\n",
            "----------\n",
            "train Loss: 985.5222 Acc: 0.0264\n",
            "val Loss: 987.9067 Acc: 0.0123\n",
            "Epoch 2/10\n",
            "----------\n",
            "train Loss: 903.1345 Acc: 0.0315\n",
            "val Loss: 997.9081 Acc: 0.0077\n",
            "Epoch 3/10\n",
            "----------\n",
            "train Loss: 783.0804 Acc: 0.0880\n",
            "val Loss: 1120.5109 Acc: 0.0246\n",
            "Epoch 4/10\n",
            "----------\n",
            "train Loss: 516.8501 Acc: 0.3218\n",
            "val Loss: 1370.1402 Acc: 0.0179\n",
            "Epoch 5/10\n",
            "----------\n",
            "train Loss: 254.9823 Acc: 0.6413\n",
            "val Loss: 1755.8955 Acc: 0.0489\n",
            "Epoch 6/10\n",
            "----------\n",
            "train Loss: 122.8337 Acc: 0.8357\n",
            "val Loss: 2317.2930 Acc: 0.0360\n",
            "Epoch 7/10\n",
            "----------\n",
            "train Loss: 58.7535 Acc: 0.9426\n",
            "val Loss: 2783.6992 Acc: 0.0382\n",
            "Epoch 8/10\n",
            "----------\n",
            "train Loss: 34.0767 Acc: 0.9760\n",
            "val Loss: 3107.7922 Acc: 0.0339\n",
            "Epoch 9/10\n",
            "----------\n",
            "train Loss: 22.1694 Acc: 0.9869\n",
            "val Loss: 3359.3625 Acc: 0.0334\n",
            "Epoch 10/10\n",
            "----------\n",
            "train Loss: 19.1492 Acc: 0.9902\n",
            "val Loss: 3619.1952 Acc: 0.0299\n",
            "Training complete in 24m 0s\n",
            "Best val Acc: 0.048865\n",
            "training with device: cuda:0\n",
            "Epoch 1/10\n",
            "----------\n",
            "train Loss: 1248.2743 Acc: 0.0277\n",
            "val Loss: 1027.9334 Acc: 0.0008\n",
            "Epoch 2/10\n",
            "----------\n",
            "train Loss: 967.8456 Acc: 0.0135\n",
            "val Loss: 1011.5176 Acc: 0.0147\n",
            "Epoch 3/10\n",
            "----------\n",
            "train Loss: 880.6245 Acc: 0.0339\n",
            "val Loss: 1032.5203 Acc: 0.0179\n",
            "Epoch 4/10\n",
            "----------\n",
            "train Loss: 715.0703 Acc: 0.1385\n",
            "val Loss: 1151.4248 Acc: 0.0312\n",
            "Epoch 5/10\n",
            "----------\n",
            "train Loss: 463.7465 Acc: 0.3934\n",
            "val Loss: 1426.1196 Acc: 0.0425\n",
            "Epoch 6/10\n",
            "----------\n",
            "train Loss: 233.3132 Acc: 0.6935\n",
            "val Loss: 1873.0769 Acc: 0.0254\n",
            "Epoch 7/10\n",
            "----------\n",
            "train Loss: 108.6386 Acc: 0.8748\n",
            "val Loss: 2367.3947 Acc: 0.0270\n",
            "Epoch 8/10\n",
            "----------\n",
            "train Loss: 54.0632 Acc: 0.9478\n",
            "val Loss: 2806.8502 Acc: 0.0382\n",
            "Epoch 9/10\n",
            "----------\n",
            "train Loss: 36.5495 Acc: 0.9720\n",
            "val Loss: 3211.4806 Acc: 0.0320\n",
            "Epoch 10/10\n",
            "----------\n",
            "train Loss: 29.6546 Acc: 0.9801\n",
            "val Loss: 3211.4982 Acc: 0.0294\n",
            "Training complete in 26m 38s\n",
            "Best val Acc: 0.042457\n"
          ],
          "name": "stdout"
        }
      ]
    },
    {
      "metadata": {
        "id": "-2zQZeBuT3xw",
        "colab_type": "code",
        "outputId": "6acfa961-82c0-4dce-a41a-c8124dd7e5d2",
        "colab": {
          "base_uri": "https://localhost:8080/",
          "height": 707
        }
      },
      "cell_type": "code",
      "source": [
        "plt.plot(np.arange(len(losses['train'])), losses['train'],label=\"train\")\n",
        "plt.plot(np.arange(len(losses['val'])), losses['val'], label=\"val\")\n",
        "plt.legend()\n",
        "plt.title(\"loss by epoch\")\n",
        "plt.show()\n",
        "\n",
        "plt.plot(np.arange(len(accuracys['train'])), accuracys['train'], label=\"train\")\n",
        "plt.plot(np.arange(len(accuracys['val'])), accuracys['val'], label=\"val\")\n",
        "plt.title(\"accuracy by epoch\")\n",
        "plt.legend()\n",
        "plt.show()"
      ],
      "execution_count": 0,
      "outputs": [
        {
          "output_type": "display_data",
          "data": {
            "image/png": "[encoded data removed]",
            "text/plain": [
              "<matplotlib.figure.Figure at 0x7f1afafed7b8>"
            ]
          },
          "metadata": {
            "tags": []
          }
        },
        {
          "output_type": "display_data",
          "data": {
            "image/png": "[encoded data removed]",
            "text/plain": [
              "<matplotlib.figure.Figure at 0x7f1afaf26860>"
            ]
          },
          "metadata": {
            "tags": []
          }
        }
      ]
    },
    {
      "metadata": {
        "id": "IYFk4Wv7-tzy",
        "colab_type": "code",
        "colab": {}
      },
      "cell_type": "code",
      "source": [
        "import torchvision.models as models\n",
        "resnet34 = models.resnet34()"
      ],
      "execution_count": 0,
      "outputs": []
    },
    {
      "metadata": {
        "id": "YfcSz_B9_jgI",
        "colab_type": "code",
        "colab": {}
      },
      "cell_type": "code",
      "source": [
        "import torch\n",
        "import torch.nn as nn\n",
        "import torchvision\n",
        "import cv2\n",
        "\n",
        "RESNET_ENCODERS = {\n",
        "    34: torchvision.models.resnet34,\n",
        "    50: torchvision.models.resnet50,\n",
        "    101: torchvision.models.resnet101,\n",
        "    152: torchvision.models.resnet152,\n",
        "}\n",
        "class Resnet4Channel(nn.Module):\n",
        "    def __init__(self, encoder_depth=34, pretrained=True, num_classes=28):\n",
        "        super().__init__()\n",
        "\n",
        "        encoder = RESNET_ENCODERS[encoder_depth](pretrained=pretrained)\n",
        "        \n",
        "        # we initialize this conv to take in 4 channels instead of 3\n",
        "        # we keeping corresponding weights and initializing new weights with zeros\n",
        "        # this trick taken from https://www.kaggle.com/iafoss/pretrained-resnet34-with-rgby-0-460-public-lb\n",
        "        w = encoder.conv1.weight\n",
        "        self.conv1 = nn.Conv2d(4, 64, kernel_size=7, stride=2, padding=3,\n",
        "                               bias=False)\n",
        "        \n",
        "        self.conv1.weight = nn.Parameter(torch.cat((w,w[:,:1,:,:]),dim=1))\n",
        "        \n",
        "        self.bn1 = encoder.bn1\n",
        "        self.relu = nn.ReLU(inplace=True) \n",
        "        self.maxpool = nn.MaxPool2d(kernel_size=3, stride=2, padding=1)\n",
        "\n",
        "        self.layer1 = encoder.layer1\n",
        "        self.layer2 = encoder.layer2\n",
        "        self.layer3 = encoder.layer3\n",
        "        self.layer4 = encoder.layer4\n",
        "        \n",
        "        self.avgpool = encoder.avgpool\n",
        "        self.fc = nn.Linear(512 * (1 if encoder_depth==34 else 4), num_classes)\n",
        "        \n",
        "    def forward(self, x):\n",
        "        x = self.conv1(x)\n",
        "        x = self.bn1(x)\n",
        "        x = self.relu(x)\n",
        "        x = self.maxpool(x)\n",
        "\n",
        "        x = self.layer1(x)\n",
        "        x = self.layer2(x)\n",
        "        x = self.layer3(x)\n",
        "        x = self.layer4(x)\n",
        "\n",
        "        x = self.avgpool(x)\n",
        "        x = x.view(x.size(0), -1)\n",
        "        x = self.fc(x)\n",
        "\n",
        "        return x\n",
        "    \n",
        "\n",
        "def resnet34(pretrained):\n",
        "    return Resnet4Channel(encoder_depth=34)\n",
        "\n",
        "def resnet50(pretrained):\n",
        "    return Resnet4Channel(encoder_depth=50)"
      ],
      "execution_count": 0,
      "outputs": []
    },
    {
      "metadata": {
        "id": "IqCX6DTL3iZu",
        "colab_type": "code",
        "colab": {}
      },
      "cell_type": "code",
      "source": [
        "class Resnet34_4(nn.Module):\n",
        "    def __init__(self, pre=True):\n",
        "        super().__init__()\n",
        "        encoder = resnet34(pretrained=pre)\n",
        "        \n",
        "        self.conv1 = nn.Conv2d(4, 64, kernel_size=7, stride=2, padding=3, bias=False)\n",
        "        if(pre):\n",
        "            w = encoder.conv1.weight\n",
        "            self.conv1.weight = nn.Parameter(torch.cat((w,\n",
        "                                    0.5*(w[:,:1,:,:]+w[:,2:,:,:])),dim=1))\n",
        "        \n",
        "        self.bn1 = encoder.bn1\n",
        "        self.relu = nn.ReLU(inplace=True) \n",
        "        self.maxpool = nn.MaxPool2d(kernel_size=3, stride=2, padding=1)\n",
        "        self.layer0 = nn.Sequential(self.conv1,self.relu,self.bn1,self.maxpool)\n",
        "        self.layer1 = encoder.layer1\n",
        "        self.layer2 = encoder.layer2\n",
        "        self.layer3 = encoder.layer3\n",
        "        self.layer4 = encoder.layer4\n",
        "        #the head will be added automatically by fast.ai\n",
        "        \n",
        "    def forward(self, x):\n",
        "        x = self.layer0(x)\n",
        "        x = self.layer1(x)\n",
        "        x = self.layer2(x)\n",
        "        x = self.layer3(x)\n",
        "        x = self.layer4(x)\n",
        "        \n",
        "        return x"
      ],
      "execution_count": 0,
      "outputs": []
    },
    {
      "metadata": {
        "id": "sDDuzT7b-K22",
        "colab_type": "code",
        "colab": {}
      },
      "cell_type": "code",
      "source": [
        "dataloaders, dataset_sizes = prepare_loaders()"
      ],
      "execution_count": 0,
      "outputs": []
    },
    {
      "metadata": {
        "id": "fLKhhGQx-Pcu",
        "colab_type": "code",
        "colab": {}
      },
      "cell_type": "code",
      "source": [
        "losses = {}\n",
        "accuracys = {}\n",
        "\n",
        "losses['train'] = []\n",
        "losses['val'] = []\n",
        "accuracys['train'] = []\n",
        "accuracys['val'] = []"
      ],
      "execution_count": 0,
      "outputs": []
    },
    {
      "metadata": {
        "id": "xlvX4ix3-PaD",
        "colab_type": "code",
        "colab": {}
      },
      "cell_type": "code",
      "source": [
        "def Train(model, epochs=10, criterion=nn.BCEWithLogitsLoss(reduction='sum'), optimizer= None):\n",
        "    since = time.time()\n",
        "\n",
        "    best_model_wts = copy.deepcopy(model.state_dict())\n",
        "    best_acc = 0.0\n",
        "\n",
        "\n",
        "    if optimizer == None:\n",
        "        optimizer = optim.Adam(model.parameters(), lr=0.04, betas=(0.9, 0.99))\n",
        "    \n",
        "    device = torch.device(\"cuda:0\" if torch.cuda.is_available() else \"cpu\")\n",
        "    print(\"training with device: \" + str(device))\n",
        "    \n",
        "    model.to(device)\n",
        "    \n",
        "    for epoch in range(epochs):  # loop over the dataset multiple times\n",
        "        print('Epoch {}/{}'.format(epoch+1, epochs))\n",
        "        print('-' * 10)\n",
        "        \n",
        "        for phase in ['train', 'val']:\n",
        "            if phase == 'train':\n",
        "                model.train()  # Set model to training mode\n",
        "            else:\n",
        "                model.eval()   # Set model to evaluate mode\n",
        "                \n",
        "            running_loss = 0.0    \n",
        "            running_corrects = 0.0\n",
        "    \n",
        "            for i, data in enumerate(dataloaders[phase], 0):            \n",
        "                # get the inputs\n",
        "                inputs, labels = data['image'], data['target']\n",
        "\n",
        "                inputs, labels = inputs.to(device,dtype=torch.float), labels.to(device,dtype=torch.float)\n",
        "\n",
        "                # zero the parameter gradients\n",
        "                optimizer.zero_grad()\n",
        "                \n",
        "                # forward\n",
        "                # track history if only in train\n",
        "                with torch.set_grad_enabled(phase == 'train'):\n",
        "                    outputs = model(inputs)[0]\n",
        "                    preds = outputs > 0\n",
        "                    loss = criterion(outputs, labels)\n",
        "\n",
        "                    # backward + optimize only if in training phase\n",
        "                    if phase == 'train':\n",
        "                        loss.backward()\n",
        "                        optimizer.step()\n",
        "                        \n",
        "                 # statistics\n",
        "                running_loss += loss.item() * inputs.size(0)\n",
        "                labels = labels.data.byte()\n",
        "                running_corrects += torch.sum((labels == preds).all(1))\n",
        "                                \n",
        "            epoch_loss = running_loss / dataset_sizes[phase]\n",
        "            epoch_acc = running_corrects.float() / dataset_sizes[phase]\n",
        "            print('{} Loss: {:.4f} Acc: {:.4f}'.format(phase, epoch_loss, epoch_acc))\n",
        "            \n",
        "            losses[phase].append(epoch_loss)\n",
        "            accuracys[phase].append(epoch_acc)\n",
        "            \n",
        "            # deep copy the model\n",
        "            if phase == 'val' and epoch_acc > best_acc:\n",
        "                best_acc = epoch_acc\n",
        "                best_model_wts = copy.deepcopy(model.state_dict())\n",
        "                \n",
        "                \n",
        "\n",
        "    time_elapsed = time.time() - since\n",
        "    print('Training complete in {:.0f}m {:.0f}s'.format(\n",
        "        time_elapsed // 60, time_elapsed % 60))\n",
        "    print('Best val Acc: {:4f}'.format(best_acc))\n",
        "\n",
        "    # load best model weights\n",
        "    model.load_state_dict(best_model_wts)\n",
        "    return model\n",
        "\n",
        "\n",
        "def run_model(model,batch):\n",
        "    device = torch.device(\"cuda:0\" if torch.cuda.is_available() else \"cpu\")\n",
        "    model.to(device)\n",
        "    inputs = batch\n",
        "    inputs = inputs.to(device,dtype=torch.float)\n",
        "    out = model(inputs)\n",
        "    out = out[0].cpu()\n",
        "    return out"
      ],
      "execution_count": 0,
      "outputs": []
    },
    {
      "metadata": {
        "id": "lxEiPMoC-PVb",
        "colab_type": "code",
        "colab": {}
      },
      "cell_type": "code",
      "source": [
        "cnn = Resnet34_4()\n",
        "#cnn = CNN()\n",
        "cnn.apply(init_weights)"
      ],
      "execution_count": 0,
      "outputs": []
    },
    {
      "metadata": {
        "id": "Zxq8nLN1-PQM",
        "colab_type": "code",
        "colab": {}
      },
      "cell_type": "code",
      "source": [
        "torch.cuda.empty_cache()\n",
        "cnn = Train(cnn, epochs=10,  criterion=nn.BCEWithLogitsLoss(reduction='sum'), optimizer = optim.Adam(cnn.parameters(), lr=0.001, betas=(0.9, 0.99)))"
      ],
      "execution_count": 0,
      "outputs": []
    },
    {
      "metadata": {
        "id": "L1Eb1moWye2C",
        "colab_type": "text"
      },
      "cell_type": "markdown",
      "source": [
        "### Training a classifier"
      ]
    },
    {
      "metadata": {
        "id": "csiL5uSWyiOi",
        "colab_type": "code",
        "colab": {}
      },
      "cell_type": "code",
      "source": [
        "import torch\n",
        "import torchvision\n",
        "import torchvision.transforms as transforms"
      ],
      "execution_count": 0,
      "outputs": []
    },
    {
      "metadata": {
        "id": "BX6FYzsjyj74",
        "colab_type": "code",
        "colab": {}
      },
      "cell_type": "code",
      "source": [
        "transform = transforms.Compose(\n",
        "    [transforms.ToTensor(),\n",
        "     transforms.Normalize((0.5, 0.5, 0.5), (0.5, 0.5, 0.5))])\n",
        "\n",
        "trainset = torchvision.datasets.CIFAR10(root='./data', train=True,\n",
        "                                        download=True, transform=transform)\n",
        "trainloader = torch.utils.data.DataLoader(trainset, batch_size=4,\n",
        "                                          shuffle=True, num_workers=2)\n",
        "\n",
        "testset = torchvision.datasets.CIFAR10(root='./data', train=False,\n",
        "                                       download=True, transform=transform)\n",
        "testloader = torch.utils.data.DataLoader(testset, batch_size=4,\n",
        "                                         shuffle=False, num_workers=2)\n",
        "\n",
        "classes = ('plane', 'car', 'bird', 'cat',\n",
        "           'deer', 'dog', 'frog', 'horse', 'ship', 'truck')"
      ],
      "execution_count": 0,
      "outputs": []
    },
    {
      "metadata": {
        "id": "1zNORa_Viee2",
        "colab_type": "text"
      },
      "cell_type": "markdown",
      "source": [
        "### Testing torch"
      ]
    },
    {
      "metadata": {
        "id": "sEsXTglZ0y8z",
        "colab_type": "code",
        "colab": {}
      },
      "cell_type": "code",
      "source": [
        "from __future__ import print_function, division\n",
        "import os\n",
        "import torch\n",
        "import pandas as pd\n",
        "from skimage import io, transform\n",
        "import numpy as np\n",
        "import matplotlib.pyplot as plt\n",
        "from torch.utils.data import Dataset, DataLoader\n",
        "from torchvision import transforms, utils\n",
        "\n",
        "# Ignore warnings\n",
        "import warnings\n",
        "warnings.filterwarnings(\"ignore\")\n",
        "\n",
        "plt.ion()   # interactive mode"
      ],
      "execution_count": 0,
      "outputs": []
    },
    {
      "metadata": {
        "id": "-Te-4eeH0z9L",
        "colab_type": "code",
        "colab": {}
      },
      "cell_type": "code",
      "source": [
        "landmarks_frame = pd.read_csv('data/faces/face_landmarks.csv')\n",
        "\n",
        "n = 65\n",
        "img_name = landmarks_frame.iloc[n, 0]\n",
        "landmarks = landmarks_frame.iloc[n, 1:].as_matrix()\n",
        "landmarks = landmarks.astype('float').reshape(-1, 2)\n",
        "\n",
        "print('Image name: {}'.format(img_name))\n",
        "print('Landmarks shape: {}'.format(landmarks.shape))\n",
        "print('First 4 Landmarks: {}'.format(landmarks[:4]))"
      ],
      "execution_count": 0,
      "outputs": []
    },
    {
      "metadata": {
        "id": "TSCRVeGPUDXH",
        "colab_type": "code",
        "colab": {}
      },
      "cell_type": "code",
      "source": [
        "from __future__ import print_function\n",
        "from __future__ import division\n",
        "import torch\n",
        "import torch.nn as nn\n",
        "import torch.optim as optim\n",
        "import numpy as np\n",
        "import torchvision\n",
        "from torchvision import datasets, models, transforms\n",
        "import matplotlib.pyplot as plt\n",
        "import time\n",
        "import os\n",
        "import copy\n",
        "print(\"PyTorch Version: \",torch.__version__)\n",
        "print(\"Torchvision Version: \",torchvision.__version__)"
      ],
      "execution_count": 0,
      "outputs": []
    },
    {
      "metadata": {
        "id": "fcOO_lQQUJCN",
        "colab_type": "code",
        "colab": {}
      },
      "cell_type": "code",
      "source": [
        "data_dir = \"data/protein\"\n",
        "model_name = \"resnet\""
      ],
      "execution_count": 0,
      "outputs": []
    },
    {
      "metadata": {
        "id": "m-Xbn9fGUrTw",
        "colab_type": "code",
        "colab": {}
      },
      "cell_type": "code",
      "source": [
        "num_classes = 27"
      ],
      "execution_count": 0,
      "outputs": []
    },
    {
      "metadata": {
        "id": "ox-A4fC9UuZQ",
        "colab_type": "code",
        "colab": {}
      },
      "cell_type": "code",
      "source": [
        "batch_size = 64"
      ],
      "execution_count": 0,
      "outputs": []
    },
    {
      "metadata": {
        "id": "EU8cehtaUvlq",
        "colab_type": "code",
        "colab": {}
      },
      "cell_type": "code",
      "source": [
        "num_epochs = 7"
      ],
      "execution_count": 0,
      "outputs": []
    },
    {
      "metadata": {
        "id": "TuuStkpiUw80",
        "colab_type": "code",
        "colab": {}
      },
      "cell_type": "code",
      "source": [
        "feature_extract = True"
      ],
      "execution_count": 0,
      "outputs": []
    },
    {
      "metadata": {
        "id": "OSft9pVaU3Zd",
        "colab_type": "code",
        "colab": {}
      },
      "cell_type": "code",
      "source": [
        "def train_model(model, dataloaders, criterion, optimizer, num_epochs=25, is_inception=False):\n",
        "    since = time.time()\n",
        "\n",
        "    val_acc_history = []\n",
        "\n",
        "    best_model_wts = copy.deepcopy(model.state_dict())\n",
        "    best_acc = 0.0\n",
        "\n",
        "    for epoch in range(num_epochs):\n",
        "        print('Epoch {}/{}'.format(epoch, num_epochs - 1))\n",
        "        print('-' * 10)\n",
        "\n",
        "        # Each epoch has a training and validation phase\n",
        "        for phase in ['train', 'val']:\n",
        "            if phase == 'train':\n",
        "                model.train()  # Set model to training mode\n",
        "            else:\n",
        "                model.eval()   # Set model to evaluate mode\n",
        "\n",
        "            running_loss = 0.0\n",
        "            running_corrects = 0\n",
        "\n",
        "            # Iterate over data.\n",
        "            for inputs, labels in dataloaders[phase]:\n",
        "                inputs = inputs.to(device)\n",
        "                labels = labels.to(device)\n",
        "\n",
        "                # zero the parameter gradients\n",
        "                optimizer.zero_grad()\n",
        "\n",
        "                # forward\n",
        "                # track history if only in train\n",
        "                with torch.set_grad_enabled(phase == 'train'):\n",
        "                    # Get model outputs and calculate loss\n",
        "                    # Special case for inception because in training it has an auxiliary output. In train\n",
        "                    #   mode we calculate the loss by summing the final output and the auxiliary output\n",
        "                    #   but in testing we only consider the final output.\n",
        "                    if is_inception and phase == 'train':\n",
        "                        # From https://discuss.pytorch.org/t/how-to-optimize-inception-model-with-auxiliary-classifiers/7958\n",
        "                        outputs, aux_outputs = model(inputs)\n",
        "                        loss1 = criterion(outputs, labels)\n",
        "                        loss2 = criterion(aux_outputs, labels)\n",
        "                        loss = loss1 + 0.4*loss2\n",
        "                    else:\n",
        "                        outputs = model(inputs)\n",
        "                        loss = criterion(outputs, labels)\n",
        "\n",
        "                    _, preds = torch.max(outputs, 1)\n",
        "\n",
        "                    # backward + optimize only if in training phase\n",
        "                    if phase == 'train':\n",
        "                        loss.backward()\n",
        "                        optimizer.step()\n",
        "\n",
        "                # statistics\n",
        "                running_loss += loss.item() * inputs.size(0)\n",
        "                running_corrects += torch.sum(preds == labels.data)\n",
        "\n",
        "            epoch_loss = running_loss / len(dataloaders[phase].dataset)\n",
        "            epoch_acc = running_corrects.double() / len(dataloaders[phase].dataset)\n",
        "\n",
        "            print('{} Loss: {:.4f} Acc: {:.4f}'.format(phase, epoch_loss, epoch_acc))\n",
        "\n",
        "            # deep copy the model\n",
        "            if phase == 'val' and epoch_acc > best_acc:\n",
        "                best_acc = epoch_acc\n",
        "                best_model_wts = copy.deepcopy(model.state_dict())\n",
        "            if phase == 'val':\n",
        "                val_acc_history.append(epoch_acc)\n",
        "\n",
        "        print()\n",
        "\n",
        "    time_elapsed = time.time() - since\n",
        "    print('Training complete in {:.0f}m {:.0f}s'.format(time_elapsed // 60, time_elapsed % 60))\n",
        "    print('Best val Acc: {:4f}'.format(best_acc))\n",
        "\n",
        "    # load best model weights\n",
        "    model.load_state_dict(best_model_wts)\n",
        "    return model, val_acc_history"
      ],
      "execution_count": 0,
      "outputs": []
    },
    {
      "metadata": {
        "id": "CZbz-8w9WEmJ",
        "colab_type": "code",
        "colab": {}
      },
      "cell_type": "code",
      "source": [
        "def set_parameter_requires_grad(model, feature_extracting):\n",
        "    if feature_extracting:\n",
        "        for param in model.parameters():\n",
        "            param.requires_grad = False"
      ],
      "execution_count": 0,
      "outputs": []
    },
    {
      "metadata": {
        "id": "HNPadfmJWL90",
        "colab_type": "code",
        "colab": {}
      },
      "cell_type": "code",
      "source": [
        "(fc): Linear(in_features=512, out_features=1000, bias=True)"
      ],
      "execution_count": 0,
      "outputs": []
    },
    {
      "metadata": {
        "id": "tYeManP6WmRA",
        "colab_type": "code",
        "colab": {}
      },
      "cell_type": "code",
      "source": [
        "model.fc = nn.Linear(512, num_classes)"
      ],
      "execution_count": 0,
      "outputs": []
    },
    {
      "metadata": {
        "id": "f_3FxItvZYz4",
        "colab_type": "code",
        "colab": {}
      },
      "cell_type": "code",
      "source": [
        "def initialize_model(model_name, num_classes, feature_extract, use_pretrained=True):\n",
        "    # Initialize these variables which will be set in this if statement. Each of these\n",
        "    #   variables is model specific.\n",
        "    model_ft = None\n",
        "    input_size = 0\n",
        "\n",
        "    if model_name == \"resnet\":\n",
        "        \"\"\" Resnet18\n",
        "        \"\"\"\n",
        "        model_ft = models.resnet18(pretrained=use_pretrained)\n",
        "        set_parameter_requires_grad(model_ft, feature_extract)\n",
        "        num_ftrs = model_ft.fc.in_features\n",
        "        model_ft.fc = nn.Linear(num_ftrs, num_classes)\n",
        "        input_size = 224\n",
        "\n",
        "    elif model_name == \"alexnet\":\n",
        "        \"\"\" Alexnet\n",
        "        \"\"\"\n",
        "        model_ft = models.alexnet(pretrained=use_pretrained)\n",
        "        set_parameter_requires_grad(model_ft, feature_extract)\n",
        "        num_ftrs = model_ft.classifier[6].in_features\n",
        "        model_ft.classifier[6] = nn.Linear(num_ftrs,num_classes)\n",
        "        input_size = 224\n",
        "\n",
        "    elif model_name == \"vgg\":\n",
        "        \"\"\" VGG11_bn\n",
        "        \"\"\"\n",
        "        model_ft = models.vgg11_bn(pretrained=use_pretrained)\n",
        "        set_parameter_requires_grad(model_ft, feature_extract)\n",
        "        num_ftrs = model_ft.classifier[6].in_features\n",
        "        model_ft.classifier[6] = nn.Linear(num_ftrs,num_classes)\n",
        "        input_size = 224\n",
        "\n",
        "    elif model_name == \"squeezenet\":\n",
        "        \"\"\" Squeezenet\n",
        "        \"\"\"\n",
        "        model_ft = models.squeezenet1_0(pretrained=use_pretrained)\n",
        "        set_parameter_requires_grad(model_ft, feature_extract)\n",
        "        model_ft.classifier[1] = nn.Conv2d(512, num_classes, kernel_size=(1,1), stride=(1,1))\n",
        "        model_ft.num_classes = num_classes\n",
        "        input_size = 224\n",
        "\n",
        "    elif model_name == \"densenet\":\n",
        "        \"\"\" Densenet\n",
        "        \"\"\"\n",
        "        model_ft = models.densenet121(pretrained=use_pretrained)\n",
        "        set_parameter_requires_grad(model_ft, feature_extract)\n",
        "        num_ftrs = model_ft.classifier.in_features\n",
        "        model_ft.classifier = nn.Linear(num_ftrs, num_classes)\n",
        "        input_size = 224\n",
        "\n",
        "    elif model_name == \"inception\":\n",
        "        \"\"\" Inception v3\n",
        "        Be careful, expects (299,299) sized images and has auxiliary output\n",
        "        \"\"\"\n",
        "        model_ft = models.inception_v3(pretrained=use_pretrained)\n",
        "        set_parameter_requires_grad(model_ft, feature_extract)\n",
        "        # Handle the auxilary net\n",
        "        num_ftrs = model_ft.AuxLogits.fc.in_features\n",
        "        model_ft.AuxLogits.fc = nn.Linear(num_ftrs, num_classes)\n",
        "        # Handle the primary net\n",
        "        num_ftrs = model_ft.fc.in_features\n",
        "        model_ft.fc = nn.Linear(num_ftrs,num_classes)\n",
        "        input_size = 299\n",
        "\n",
        "    else:\n",
        "        print(\"Invalid model name, exiting...\")\n",
        "        exit()\n",
        "\n",
        "    return model_ft, input_size\n",
        "\n",
        "# Initialize the model for this run\n",
        "model_ft, input_size = initialize_model(model_name, num_classes, feature_extract, use_pretrained=True)\n",
        "\n",
        "# Print the model we just instantiated\n",
        "print(model_ft)"
      ],
      "execution_count": 0,
      "outputs": []
    },
    {
      "metadata": {
        "id": "7Pnxj5RWaEZD",
        "colab_type": "code",
        "colab": {}
      },
      "cell_type": "code",
      "source": [
        "protein_stats = ([0.08069, 0.05258, 0.05487, 0.08282], [0.13704, 0.10145, 0.15313, 0.13814])"
      ],
      "execution_count": 0,
      "outputs": []
    },
    {
      "metadata": {
        "id": "STpromdkq0rF",
        "colab_type": "code",
        "colab": {}
      },
      "cell_type": "code",
      "source": [
        ""
      ],
      "execution_count": 0,
      "outputs": []
    }
  ]
}