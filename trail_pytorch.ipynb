{
  "nbformat": 4,
  "nbformat_minor": 0,
  "metadata": {
    "colab": {
      "name": "trail_pytorch.ipynb",
      "version": "0.3.2",
      "provenance": [],
      "collapsed_sections": [
        "U14YLd5k4Uts",
        "lnLg9M8v18Uw"
      ]
    },
    "kernelspec": {
      "name": "python3",
      "display_name": "Python 3"
    },
    "accelerator": "GPU"
  },
  "cells": [
    {
      "metadata": {
        "id": "U14YLd5k4Uts",
        "colab_type": "text"
      },
      "cell_type": "markdown",
      "source": [
        "### Data downloading "
      ]
    },
    {
      "metadata": {
        "id": "waIyTaiM1LIW",
        "colab_type": "code",
        "colab": {}
      },
      "cell_type": "code",
      "source": [
        "!wget --header=\"Host: storage.googleapis.com\" --header=\"User-Agent: Mozilla/5.0 (Windows NT 6.1) AppleWebKit/537.36 (KHTML, like Gecko) Chrome/71.0.3578.98 Safari/537.36\" --header=\"Accept: text/html,application/xhtml+xml,application/xml;q=0.9,image/webp,image/apng,*/*;q=0.8\" --header=\"Accept-Language: en-US,en;q=0.9\" --header=\"Referer: https://www.kaggle.com/\" \"https://storage.googleapis.com/kaggle-competitions-data/kaggle/10418/123020/sample_submission.csv?GoogleAccessId=web-data@kaggle-161607.iam.gserviceaccount.com&Expires=1546326541&Signature=WfpXoHo9ZEdhCOlmzM9xAWqSXf4as%2BpzI6qIMMop8xRBfLV2eBan5p%2B92oQwvzYP%2F%2FqjE%2FOvU7w1SHFM6sinAD8rz5ElYkVyc8yN15f00ajjFWlTKDqFAtn4eyYZM8e9dKBrl3M2YBZlBwBc77cLX5rO%2B5NVPCzpXcne%2BT1PnztiYds5rGo0T46HNPvV3XYl6sM3nXlnupkw%2Fi%2BeucwAWnC%2B1LpvpWVvAXOY9DJchal6r4Z1QD5EEfkbUbFT0MIoaN2g5%2B3lqDYbet0zQtk0BK5II%2BHNodacslHpf77RQvPmpHEXg52uOi2K3XelgDtT39DmZBn4RByrJoy%2FnXrdIA%3D%3D\" -O \"sample_submission.csv\" -c"
      ],
      "execution_count": 0,
      "outputs": []
    },
    {
      "metadata": {
        "id": "_7sjBm6D1PeJ",
        "colab_type": "code",
        "colab": {}
      },
      "cell_type": "code",
      "source": [
        "!wget --header=\"Host: storage.googleapis.com\" --header=\"User-Agent: Mozilla/5.0 (Windows NT 6.1) AppleWebKit/537.36 (KHTML, like Gecko) Chrome/71.0.3578.98 Safari/537.36\" --header=\"Accept: text/html,application/xhtml+xml,application/xml;q=0.9,image/webp,image/apng,*/*;q=0.8\" --header=\"Accept-Language: en-US,en;q=0.9\" --header=\"Referer: https://www.kaggle.com/\" \"https://storage.googleapis.com/kaggle-competitions-data/kaggle/10418/123020/train.csv?GoogleAccessId=web-data@kaggle-161607.iam.gserviceaccount.com&Expires=1546326563&Signature=X15seZbJM9G1UsHs8FjI0IjgPjUuxaMOTX6FFPU672HTxxjxFaF98YDRxe0h4x6xRIIohG3VxGyz3TIIKMh2Q68xyXgedXK0qpmYajmZENR6opMH61GD5UtGcn%2FiaQq841xAgIhhANNbbeMHnMJGmV5TzNk%2BUgBbU%2B85kt5UQxD%2Bywv05ZdKLBBkhAiZFUWUD48rEaLgMWJW32Hvr7jTHD65a5%2FRABSIFbTKNAUjXwLwgqwBMFhOHCJWC%2FZkwIeYBS2Q4MpftGQ5IlvA%2BSQS9iuk9GWq7il67sVb8MPzRAihV%2BbZ7RLl814VLxMDDlmrqMdqsteVrjdOGsF0t17GEw%3D%3D\" -O \"train.csv\" -c"
      ],
      "execution_count": 0,
      "outputs": []
    },
    {
      "metadata": {
        "id": "6UOHAsrn1QUK",
        "colab_type": "code",
        "colab": {}
      },
      "cell_type": "code",
      "source": [
        "!wget --header=\"Host: storage.googleapis.com\" --header=\"User-Agent: Mozilla/5.0 (Windows NT 6.1) AppleWebKit/537.36 (KHTML, like Gecko) Chrome/71.0.3578.98 Safari/537.36\" --header=\"Accept: text/html,application/xhtml+xml,application/xml;q=0.9,image/webp,image/apng,*/*;q=0.8\" --header=\"Accept-Language: en-US,en;q=0.9\" --header=\"Referer: https://www.kaggle.com/\" \"https://storage.googleapis.com/kaggle-competitions-data/kaggle/10418/123020/test.zip?GoogleAccessId=web-data@kaggle-161607.iam.gserviceaccount.com&Expires=1546326580&Signature=Xp4Ov64X%2BxooAFT8Lj2P9OdiAVneDHABZMUcJD5HXvy%2FR5%2F%2B9iGVCS08DDi04P%2F8wqScwDVreRpEE6xNvZzXcdxQ0AZ0xcpP6A8IAzKTEOLed%2BqCxf7YZXJJW75vMfRgqDvN7MjsrcGYXFGtBUaj6CtVcqdJ59AYbjKFaoJzjtW4rMHRRTwozTBdVoUq7Ru36fMcjb9MjMZZhkKdyNr9TaMo2Tiw1MEBxz4R3Wax%2B%2BxEZWFksXfdNCljX4c4RbV1y7yeIiUBIuZu1X8rsmZcVCyDxRrrgaxf%2BtCrPLLcSMFkHtaoLJeIrHj249cHqT5CeRx7fZAtnVlQZIE6bScuww%3D%3D\" -O \"test.zip\" -c"
      ],
      "execution_count": 0,
      "outputs": []
    },
    {
      "metadata": {
        "id": "OPL7iRDJ1RSU",
        "colab_type": "code",
        "colab": {}
      },
      "cell_type": "code",
      "source": [
        "!wget --header=\"Host: storage.googleapis.com\" --header=\"User-Agent: Mozilla/5.0 (Windows NT 6.1) AppleWebKit/537.36 (KHTML, like Gecko) Chrome/71.0.3578.98 Safari/537.36\" --header=\"Accept: text/html,application/xhtml+xml,application/xml;q=0.9,image/webp,image/apng,*/*;q=0.8\" --header=\"Accept-Language: en-US,en;q=0.9\" --header=\"Referer: https://www.kaggle.com/\" \"https://storage.googleapis.com/kaggle-competitions-data/kaggle/10418/123020/train.zip?GoogleAccessId=web-data@kaggle-161607.iam.gserviceaccount.com&Expires=1546326595&Signature=AROAHUrXLjjgx2gyElYptPVyBh3sn8jPA%2FHcF2xureqQvF9AoWKT8QzM4Uqz2WvswqExQ1nJrYb747i2%2BT6DDQuvgMarjpfopKt%2FcUvHEbLpHbGRwPjiPW5M11h5ElC9wy%2BCC2YA25O2FOVN47iwq%2BgRHymkGla2T1kfUNBtQEcj57pjwQXzAYQ%2F91I6DpakdPVqPNW6FBUqTNWUyS%2Fug%2FXUOlA6h9fgMmNPR7QgS7RLcYXUCwGAZqqHSNbNfJyZqBQOiqagRcUhduIsta%2BQBEo4JLo8%2B4EF%2Bqlaxg87MLSFmM58HP5OunXI9LqVO7Vuq9ulvixzyueQDoL7BspJbg%3D%3D\" -O \"train.zip\" -c"
      ],
      "execution_count": 0,
      "outputs": []
    },
    {
      "metadata": {
        "id": "WTfpIlAM1SRh",
        "colab_type": "code",
        "colab": {}
      },
      "cell_type": "code",
      "source": [
        "!mkdir data\n",
        "!mkdir data/protein"
      ],
      "execution_count": 0,
      "outputs": []
    },
    {
      "metadata": {
        "id": "R1hG1vgs1TTn",
        "colab_type": "code",
        "colab": {}
      },
      "cell_type": "code",
      "source": [
        "!unzip -qq train.zip -d data/protein/train"
      ],
      "execution_count": 0,
      "outputs": []
    },
    {
      "metadata": {
        "id": "Ejmb-FB91UAB",
        "colab_type": "code",
        "colab": {}
      },
      "cell_type": "code",
      "source": [
        "!unzip -qq test.zip -d data/protein/test"
      ],
      "execution_count": 0,
      "outputs": []
    },
    {
      "metadata": {
        "id": "ilf77x2J1Vdr",
        "colab_type": "code",
        "colab": {}
      },
      "cell_type": "code",
      "source": [
        "!mv train.csv data/protein"
      ],
      "execution_count": 0,
      "outputs": []
    },
    {
      "metadata": {
        "id": "e8f-ERbH1V77",
        "colab_type": "code",
        "colab": {}
      },
      "cell_type": "code",
      "source": [
        "!pip3 install torch torchvision"
      ],
      "execution_count": 0,
      "outputs": []
    },
    {
      "metadata": {
        "id": "lnLg9M8v18Uw",
        "colab_type": "text"
      },
      "cell_type": "markdown",
      "source": [
        "### Trails:"
      ]
    },
    {
      "metadata": {
        "id": "Fa4gqlyM1eIt",
        "colab_type": "code",
        "colab": {}
      },
      "cell_type": "code",
      "source": [
        "%matplotlib inline \n",
        "import matplotlib.pyplot as plt\n",
        "import numpy as np # linear algebra\n",
        "import pandas as pd # data processing, CSV file I/O (e.g. pd.read_csv)\n",
        "import os\n",
        "import time\n",
        "import copy\n",
        "from PIL import Image\n",
        "\n",
        "train_path = 'data/protein/train/'\n",
        "test_path = 'data/protein/test/'\n",
        "df = pd.read_csv('data/protein/train.csv')\n",
        "df.head()"
      ],
      "execution_count": 0,
      "outputs": []
    },
    {
      "metadata": {
        "id": "HUgBEqwEHDwg",
        "colab_type": "code",
        "colab": {}
      },
      "cell_type": "code",
      "source": [
        "a=df.iloc[4,0]\n",
        "a"
      ],
      "execution_count": 0,
      "outputs": []
    },
    {
      "metadata": {
        "id": "WtRJhZXnNiGy",
        "colab_type": "code",
        "colab": {}
      },
      "cell_type": "code",
      "source": [
        "path = 'data/protein/train'\n",
        "ids = a\n",
        "def open_rgby(path,id): #a function that reads RGBY image\n",
        "    colors = ['red','green','blue','yellow']\n",
        "    flags = cv2.IMREAD_GRAYSCALE\n",
        "    img = [cv2.imread(os.path.join(path, id+'_'+color+'.png'), flags).astype(np.float32)/255\n",
        "           for color in colors]\n",
        "    return np.stack(img, axis=-1)\n",
        "x=open_rgby(path,ids)"
      ],
      "execution_count": 0,
      "outputs": []
    },
    {
      "metadata": {
        "id": "2uVT63jLOEAo",
        "colab_type": "code",
        "colab": {}
      },
      "cell_type": "code",
      "source": [
        "def display_imgs(x):\n",
        "    columns = 4\n",
        "    bs = x.shape[0]\n",
        "    rows = min((bs+3)//4,4)\n",
        "    fig=plt.figure(figsize=(columns*4, rows*4))\n",
        "    for i in range(rows):\n",
        "        for j in range(columns):\n",
        "            idx = i+j*columns\n",
        "            fig.add_subplot(rows, columns, idx+1)\n",
        "            plt.axis('off')\n",
        "            plt.imshow((x[idx,:,:,:3]*255).astype(np.int))\n",
        "    plt.show()\n",
        "\n",
        "    \n",
        "display_imgs(x)"
      ],
      "execution_count": 0,
      "outputs": []
    },
    {
      "metadata": {
        "id": "tBB2YzMpG0LF",
        "colab_type": "code",
        "colab": {}
      },
      "cell_type": "code",
      "source": [
        "def open_rgby(path,id): #a function that reads RGBY image\n",
        "    colors = ['red','green','blue','yellow']\n",
        "    flags = cv2.IMREAD_GRAYSCALE\n",
        "    img = [cv2.imread(os.path.join(path, id+'_'+color+'.png'), flags).astype(np.float32)/255\n",
        "           for color in colors]\n",
        "    x= np.stack(img, axis=-1)\n",
        "  \n",
        "    columns = 4\n",
        "    bs = x.shape[0]\n",
        "    rows = min((bs+3)//4,4)\n",
        "    fig=plt.figure(figsize=(columns*4, rows*4))\n",
        "    for i in range(rows):\n",
        "        for j in range(columns):\n",
        "            idx = i+j*columns\n",
        "            fig.add_subplot(rows, columns, idx+1)\n",
        "            plt.axis('off')\n",
        "            plt.imshow((x[idx,:,:,:3]*255).astype(np.int))\n",
        "    plt.show()"
      ],
      "execution_count": 0,
      "outputs": []
    },
    {
      "metadata": {
        "id": "8cqICEH0ETpH",
        "colab_type": "code",
        "colab": {}
      },
      "cell_type": "code",
      "source": [
        "from PIL import Image\n",
        "import os\n",
        "\n",
        "dataFiles = os.listdir('data/protein/train/')\n",
        "\n",
        "for filename in dataFiles:\n",
        "\n",
        "    #strip off the file extension\n",
        "    name = os.path.splitext(filename)[0]\n",
        "\n",
        "    bw = Image.open('data/protein/train/%s' %(filename,))\n",
        "\n",
        "    #create the coloured overlays\n",
        "    red = Image.new('RGB',bw.size,(255,0,0))\n",
        "    green = Image.new('RGB',bw.size,(0,255,0))\n",
        "    blue = Image.new('RGB',bw.size,(0,0,255))\n",
        "    yellow = Image.new('RGB',bw.size,(255,255,0))\n",
        "\n",
        "    #create a mask using RGBA to define an alpha channel to make the overlay transparent\n",
        "    mask = Image.new('RGBA',bw.size,(0,0,0,123))\n",
        "\n",
        "    x=Image.composite(bw,red,mask).convert('RGB')\n",
        "    y=Image.composite(bw,green,mask).convert('RGB')\n",
        "    z=Image.composite(bw,blue,mask).convert('RGB')\n",
        "    a=Image.composite(bw,yellow,mask).convert('RGB')\n",
        "    \n",
        "    f, (ax1,ax2,ax3,ax4) = plt.subplots(1, 4, figsize=(3,3), sharey=True)\n",
        "    title = ''\n",
        "\n",
        "    ax1.imshow(x)\n",
        "    ax1.set_title('Red')\n",
        "    ax2.imshow(y)\n",
        "    ax2.set_title('Green')\n",
        "    ax3.imshow(z)\n",
        "    ax3.set_title('Blue')\n",
        "    ax4.imshow(a)\n",
        "    ax4.set_title('Yellow')\n",
        "    f.suptitle(title, fontsize=20, y=0.62)\n",
        "    "
      ],
      "execution_count": 0,
      "outputs": []
    },
    {
      "metadata": {
        "id": "ckN6fqxu4aiH",
        "colab_type": "code",
        "colab": {}
      },
      "cell_type": "code",
      "source": [
        "df.shape"
      ],
      "execution_count": 0,
      "outputs": []
    },
    {
      "metadata": {
        "id": "yUibWtuz4n5e",
        "colab_type": "code",
        "colab": {}
      },
      "cell_type": "code",
      "source": [
        "df.size"
      ],
      "execution_count": 0,
      "outputs": []
    },
    {
      "metadata": {
        "id": "KMEnvcUL5Yet",
        "colab_type": "code",
        "colab": {}
      },
      "cell_type": "code",
      "source": [
        "def load_image(basepath, image_id):\n",
        "    images = np.zeros(shape=(256,256,4))\n",
        "    r = Image.open(basepath+image_id+\"_red.png\").resize((256,256))\n",
        "    g = Image.open(basepath+image_id+\"_green.png\").resize((256,256))\n",
        "    b = Image.open(basepath+image_id+\"_blue.png\").resize((256,256))\n",
        "    y = Image.open(basepath+image_id+\"_yellow.png\").resize((256,256))\n",
        "\n",
        "    images[:,:,0] = np.asarray(r)\n",
        "    images[:,:,1] = np.asarray(g)\n",
        "    images[:,:,2] = np.asarray(b)\n",
        "    images[:,:,3] = np.asarray(y)\n",
        "    \n",
        "    return images"
      ],
      "execution_count": 0,
      "outputs": []
    },
    {
      "metadata": {
        "id": "usytWk0CFTXU",
        "colab_type": "code",
        "colab": {}
      },
      "cell_type": "code",
      "source": [
        "def Show(sample):\n",
        "    f, (ax1,ax2,ax3,ax4) = plt.subplots(1, 4, figsize=(3,3), sharey=True)\n",
        "\n",
        "    title = ''\n",
        "    \n",
        "    labels =sample['target']\n",
        "                \n",
        "    for i, label in enumerate(LABELS):\n",
        "        if labels[i] == 1:\n",
        "            if title == '':\n",
        "                title += label\n",
        "            else:\n",
        "                title += \" & \" + label\n",
        "            \n",
        "    ax1.imshow(sample['image'][0,:,:],cmap=\"hot\")\n",
        "    ax1.set_title('Red')\n",
        "    ax2.imshow(sample['image'][1,:,:],cmap=\"copper\")\n",
        "    ax2.set_title('Green')\n",
        "    ax3.imshow(sample['image'][2,:,:],cmap=\"bone\")\n",
        "    ax3.set_title('Blue')\n",
        "    ax4.imshow(sample['image'][3,:,:],cmap=\"afmhot\")\n",
        "    ax4.set_title('Yellow')\n",
        "    f.suptitle(title, fontsize=20, y=0.62)"
      ],
      "execution_count": 0,
      "outputs": []
    },
    {
      "metadata": {
        "id": "lR75Dh9aFVke",
        "colab_type": "code",
        "colab": {}
      },
      "cell_type": "code",
      "source": [
        "import random\n",
        "import cv2\n",
        "idxs = random.sample(range(1, dataset.df.shape[0]), 3)\n",
        "\n",
        "for idx in idxs:\n",
        "    Show(dataset[idx])"
      ],
      "execution_count": 0,
      "outputs": []
    },
    {
      "metadata": {
        "id": "NRAiKa204pWv",
        "colab_type": "code",
        "colab": {}
      },
      "cell_type": "code",
      "source": [
        "for i in range(2):\n",
        "  "
      ],
      "execution_count": 0,
      "outputs": []
    },
    {
      "metadata": {
        "id": "sOvBk8oXUvKZ",
        "colab_type": "text"
      },
      "cell_type": "markdown",
      "source": [
        "### Program"
      ]
    },
    {
      "metadata": {
        "id": "GNi-1KFmUutX",
        "colab_type": "code",
        "colab": {}
      },
      "cell_type": "code",
      "source": [
        "%matplotlib inline \n",
        "import matplotlib.pyplot as plt\n",
        "import numpy as np # linear algebra\n",
        "import pandas as pd # data processing, CSV file I/O (e.g. pd.read_csv)\n",
        "import os\n",
        "import time\n",
        "import copy\n",
        "\n",
        "\n",
        "from PIL import Image\n",
        "\n",
        "DATASET_SIZE = 8000\n",
        "BATCH_SIZE = 200\n",
        "W = H = 256\n",
        "\n",
        "train_path = 'data/protein/train/'\n",
        "test_path = 'data/protein/test/'\n",
        "\n",
        "LABEL_MAP = {\n",
        "0: \"Nucleoplasm\" ,\n",
        "1: \"Nuclear membrane\"   ,\n",
        "2: \"Nucleoli\"   ,\n",
        "3: \"Nucleoli fibrillar center\",   \n",
        "4: \"Nuclear speckles\"   ,\n",
        "5: \"Nuclear bodies\"   ,\n",
        "6: \"Endoplasmic reticulum\"   ,\n",
        "7: \"Golgi apparatus\"  ,\n",
        "8: \"Peroxisomes\"   ,\n",
        "9:  \"Endosomes\"   ,\n",
        "10: \"Lysosomes\"   ,\n",
        "11: \"Intermediate filaments\"  , \n",
        "12: \"Actin filaments\"   ,\n",
        "13: \"Focal adhesion sites\"  ,\n",
        "14: \"Microtubules\"   ,\n",
        "15: \"Microtubule ends\"   ,\n",
        "16: \"Cytokinetic bridge\"   ,\n",
        "17: \"Mitotic spindle\"  ,\n",
        "18: \"Microtubule organizing center\",  \n",
        "19: \"Centrosome\",\n",
        "20: \"Lipid droplets\"   ,\n",
        "21: \"Plasma membrane\"  ,\n",
        "22: \"Cell junctions\"   ,\n",
        "23: \"Mitochondria\"   ,\n",
        "24: \"Aggresome\"   ,\n",
        "25: \"Cytosol\" ,\n",
        "26: \"Cytoplasmic bodies\",\n",
        "27: \"Rods & rings\"}\n",
        "\n",
        "LABELS = []\n",
        "\n",
        "for label in LABEL_MAP.values():\n",
        "    LABELS.append(label)\n",
        "    \n",
        "train_csv_path = 'data/protein/train.csv'"
      ],
      "execution_count": 0,
      "outputs": []
    },
    {
      "metadata": {
        "id": "JrxR-vZQ6Zli",
        "colab_type": "code",
        "outputId": "0dd96b4d-dbbb-424c-d221-dff1023afc91",
        "colab": {
          "base_uri": "https://localhost:8080/",
          "height": 68
        }
      },
      "cell_type": "code",
      "source": [
        "protein = pd.read_csv(train_csv_path)\n",
        "n=25\n",
        "img_name = protein.iloc[n,0]\n",
        "print('Image name: {}'.format(img_name))\n",
        "\n",
        "labels = protein.iloc[n,1:]\n",
        "labels = protein.iloc[n,1:]\n",
        "#print('Label shape: {}'.format(labels.shape))\n",
        "print('Labels: {}'.format(labels))"
      ],
      "execution_count": 0,
      "outputs": [
        {
          "output_type": "stream",
          "text": [
            "Image name: 004bf4c6-bbc6-11e8-b2bc-ac1f6b6435d0\n",
            "Labels: Target    16 6\n",
            "Name: 25, dtype: object\n"
          ],
          "name": "stdout"
        }
      ]
    },
    {
      "metadata": {
        "id": "LjJ0GK3UVGmM",
        "colab_type": "code",
        "outputId": "b8d6ed78-2c86-4fb7-dae0-e57a0df197c0",
        "colab": {
          "base_uri": "https://localhost:8080/",
          "height": 492
        }
      },
      "cell_type": "code",
      "source": [
        "df = pd.read_csv(train_csv_path)\n",
        "\n",
        "TRAINING_SAMPLES = df.shape[0]\n",
        "\n",
        "print(\"we have \" + str(TRAINING_SAMPLES) + \" different samples\")\n",
        "print(\"And there are \"+  str(len(df.Target.unique())) + \" different combinations of labels in our dataset\")\n",
        "\n",
        "import seaborn as sns\n",
        "sns.set(style=\"dark\")\n",
        "\n",
        "n = 20\n",
        "\n",
        "values = df['Target'].value_counts()[:n].keys().tolist()\n",
        "counts = df['Target'].value_counts()[:n].tolist()\n",
        "\n",
        "plt.figure(figsize=(6,6))\n",
        "pal = sns.cubehelix_palette(n, start=2, rot=0, dark=0, light=.75, reverse=True)\n",
        "g = sns.barplot(y=counts, x=values, palette=pal)\n",
        "g.set_title(str(n)+\" MOST COMMON LABEL COMBINATIONS\")\n",
        "g.set_xticklabels(g.get_xticklabels(),rotation=90);"
      ],
      "execution_count": 0,
      "outputs": [
        {
          "output_type": "stream",
          "text": [
            "we have 31072 different samples\n",
            "And there are 582 different combinations of labels in our dataset\n"
          ],
          "name": "stdout"
        },
        {
          "output_type": "stream",
          "text": [
            "/usr/local/lib/python3.6/dist-packages/seaborn/categorical.py:1428: FutureWarning: remove_na is deprecated and is a private function. Do not use.\n",
            "  stat_data = remove_na(group_data)\n"
          ],
          "name": "stderr"
        },
        {
          "output_type": "display_data",
          "data": {
            "image/png": "[encoded data removed]",
            "text/plain": [
              "<matplotlib.figure.Figure at 0x7f1711b11080>"
            ]
          },
          "metadata": {
            "tags": []
          }
        }
      ]
    },
    {
      "metadata": {
        "id": "Bc781IlLVH2q",
        "colab_type": "code",
        "colab": {}
      },
      "cell_type": "code",
      "source": [
        "from PIL import Image\n",
        "\n",
        "def load_image(basepath, image_id):\n",
        "    images = np.zeros(shape=(256,256,4))\n",
        "    r = Image.open(basepath+image_id+\"_red.png\").resize((256,256))\n",
        "    g = Image.open(basepath+image_id+\"_green.png\").resize((256,256))\n",
        "    b = Image.open(basepath+image_id+\"_blue.png\").resize((256,256))\n",
        "    y = Image.open(basepath+image_id+\"_yellow.png\").resize((256,256))\n",
        "\n",
        "    images[:,:,0] = np.asarray(r)\n",
        "    images[:,:,1] = np.asarray(g)\n",
        "    images[:,:,2] = np.asarray(b)\n",
        "    images[:,:,3] = np.asarray(y)\n",
        "    \n",
        "    return images"
      ],
      "execution_count": 0,
      "outputs": []
    },
    {
      "metadata": {
        "id": "HbtNZyYKVIxQ",
        "colab_type": "code",
        "colab": {}
      },
      "cell_type": "code",
      "source": [
        "targets = df['Target'].value_counts().keys()\n",
        "counts = df['Target'].value_counts().values\n",
        "\n",
        "how_many = counts/TRAINING_SAMPLES*DATASET_SIZE\n",
        "\n",
        "# at least one example of each possible combination of labels..\n",
        "how_many = how_many.astype('int')+1"
      ],
      "execution_count": 0,
      "outputs": []
    },
    {
      "metadata": {
        "id": "bwAv-OGjVKsU",
        "colab_type": "code",
        "colab": {}
      },
      "cell_type": "code",
      "source": [
        "import torch\n",
        "import numpy as np\n",
        "import pandas as pd\n",
        "from torch.utils.data import Dataset, DataLoader\n",
        "from torchvision import transforms, utils\n",
        "import warnings\n",
        "warnings.filterwarnings(\"ignore\")\n",
        "from skimage import io, transform\n",
        "from sklearn.preprocessing import MultiLabelBinarizer\n",
        "classes = np.arange(0,28)\n",
        "mlb = MultiLabelBinarizer(classes)\n",
        "mlb.fit(classes)\n",
        "\n",
        "class HumanProteinDataset(Dataset):\n",
        "\n",
        "    def __init__(self, csv_file,transform=None, test=False):\n",
        "        \"\"\"\n",
        "        Args:\n",
        "            csv_file (string): Path to the csv file with annotations.\n",
        "            test (Boolean): the csv no contains labels\n",
        "            transform (callable, optional): Optional transform to be applied\n",
        "                on a sample.\n",
        "        \"\"\"\n",
        "        self.test = test\n",
        "        self.complete_df = pd.read_csv(csv_file)\n",
        "        \n",
        "        if not test:\n",
        "            self.path = train_path\n",
        "            self.loadData()\n",
        "        else:\n",
        "            self.path = test_path\n",
        "            self.df = self.complete_df\n",
        "            \n",
        "        self.transform = transform\n",
        "        \n",
        "    def CreateDummyVariables(self):\n",
        "        self.complete_df['Targets'] = self.complete_df['Target'].map(lambda x: list(map(int, x.strip().split())))\n",
        "            \n",
        "    def loadData(self):\n",
        "        self.CreateDummyVariables()\n",
        "        self.df = pd.DataFrame(columns=['Id','Target'])\n",
        "        for i, target in enumerate(targets):\n",
        "            fdf = self.complete_df[self.complete_df['Target'] == target]\n",
        "            sample = fdf.sample(n=how_many[i], replace=False)\n",
        "            self.df = self.df.append(sample)\n",
        "        self.df = self.df.sample(frac=1).reset_index(drop=True)\n",
        "            \n",
        "    def __getitem__(self, idx):\n",
        "        \n",
        "        image = load_image(self.path, self.df['Id'].iloc[idx])\n",
        "        \n",
        "        sample = {'image': image}\n",
        "\n",
        "        if not self.test:\n",
        "            target = np.array(self.complete_df['Targets'].iloc[idx])\n",
        "            target = mlb.transform([target])\n",
        "            sample['target'] = target\n",
        "        \n",
        "        else:\n",
        "            sample['Id'] = self.df['Id'].iloc[idx]\n",
        "\n",
        "        if self.transform:\n",
        "            sample = self.transform(sample)\n",
        "        return sample\n",
        "    \n",
        "    def __len__(self):\n",
        "        return self.df.shape[0]\n",
        "    \n",
        "    def shape(self):\n",
        "        return self.df.shape\n",
        "      \n",
        "class ToTensor(object):\n",
        "    \"\"\"Convert ndarrays in sample to Tensors.\"\"\"\n",
        "\n",
        "    def __call__(self, sample):\n",
        "        image, target = sample['image'], sample['target']\n",
        "        image = sample['image']/255.0\n",
        "        # swap color axis because\n",
        "        # numpy image: H x W x C\n",
        "        # torch image: C X H X W\n",
        "        # as same for targets\n",
        "        image = image.transpose((2, 0, 1))\n",
        "        return {'image': torch.from_numpy(image),\n",
        "                'target': torch.from_numpy(target)}"
      ],
      "execution_count": 0,
      "outputs": []
    },
    {
      "metadata": {
        "id": "851hiLVXVMDk",
        "colab_type": "code",
        "colab": {}
      },
      "cell_type": "code",
      "source": [
        "dataset = HumanProteinDataset(train_csv_path, transform=ToTensor())"
      ],
      "execution_count": 0,
      "outputs": []
    },
    {
      "metadata": {
        "id": "pPMsGcECU5S2",
        "colab_type": "code",
        "outputId": "45db71b6-54d1-4bae-a16e-4b11e9329ca5",
        "colab": {
          "base_uri": "https://localhost:8080/",
          "height": 581
        }
      },
      "cell_type": "code",
      "source": [
        "i=35\n",
        "sample = dataset[i]\n",
        "print(i, sample['image'], sample['target'])\n",
        "  #print('Image name: {}'.format(sample))"
      ],
      "execution_count": 0,
      "outputs": [
        {
          "output_type": "stream",
          "text": [
            "35 tensor([[[0., 0., 0.,  ..., 0., 0., 0.],\n",
            "         [0., 0., 0.,  ..., 0., 0., 0.],\n",
            "         [0., 0., 0.,  ..., 0., 0., 0.],\n",
            "         ...,\n",
            "         [0., 0., 0.,  ..., 0., 0., 0.],\n",
            "         [0., 0., 0.,  ..., 0., 0., 0.],\n",
            "         [0., 0., 0.,  ..., 0., 0., 0.]],\n",
            "\n",
            "        [[0., 0., 0.,  ..., 0., 0., 0.],\n",
            "         [0., 0., 0.,  ..., 0., 0., 0.],\n",
            "         [0., 0., 0.,  ..., 0., 0., 0.],\n",
            "         ...,\n",
            "         [0., 0., 0.,  ..., 0., 0., 0.],\n",
            "         [0., 0., 0.,  ..., 0., 0., 0.],\n",
            "         [0., 0., 0.,  ..., 0., 0., 0.]],\n",
            "\n",
            "        [[0., 0., 0.,  ..., 0., 0., 0.],\n",
            "         [0., 0., 0.,  ..., 0., 0., 0.],\n",
            "         [0., 0., 0.,  ..., 0., 0., 0.],\n",
            "         ...,\n",
            "         [0., 0., 0.,  ..., 0., 0., 0.],\n",
            "         [0., 0., 0.,  ..., 0., 0., 0.],\n",
            "         [0., 0., 0.,  ..., 0., 0., 0.]],\n",
            "\n",
            "        [[0., 0., 0.,  ..., 0., 0., 0.],\n",
            "         [0., 0., 0.,  ..., 0., 0., 0.],\n",
            "         [0., 0., 0.,  ..., 0., 0., 0.],\n",
            "         ...,\n",
            "         [0., 0., 0.,  ..., 0., 0., 0.],\n",
            "         [0., 0., 0.,  ..., 0., 0., 0.],\n",
            "         [0., 0., 0.,  ..., 0., 0., 0.]]], dtype=torch.float64) tensor([[0, 0, 0, 0, 0, 0, 0, 1, 0, 0, 0, 0, 0, 0, 0, 0, 0, 0, 0, 0, 0, 0, 0, 0,\n",
            "         0, 0, 0, 0]])\n"
          ],
          "name": "stdout"
        }
      ]
    },
    {
      "metadata": {
        "id": "6I_S4QTE4aTw",
        "colab_type": "code",
        "colab": {}
      },
      "cell_type": "code",
      "source": [
        "def Show(sample):\n",
        "    f, (ax1,ax2,ax3,ax4) = plt.subplots(1, 4, figsize=(25,25), sharey=True)\n",
        "\n",
        "    title = ''\n",
        "    \n",
        "    labels =sample['target']\n",
        "                \n",
        "    for i, label in enumerate(LABELS):\n",
        "        if labels[i] == 1:\n",
        "            if title == '':\n",
        "                title += label\n",
        "            else:\n",
        "                title += \" & \" + label\n",
        "            \n",
        "    ax1.imshow(sample['image'][0,:,:],cmap=\"hot\")\n",
        "    ax1.set_title('Red')\n",
        "    ax2.imshow(sample['image'][1,:,:],cmap=\"copper\")\n",
        "    ax2.set_title('Green')\n",
        "    ax3.imshow(sample['image'][2,:,:],cmap=\"bone\")\n",
        "    ax3.set_title('Blue')\n",
        "    ax4.imshow(sample['image'][3,:,:],cmap=\"afmhot\")\n",
        "    ax4.set_title('Yellow')\n",
        "    f.suptitle(title, fontsize=20, y=0.62)"
      ],
      "execution_count": 0,
      "outputs": []
    },
    {
      "metadata": {
        "id": "CzMnFtCX4bf0",
        "colab_type": "code",
        "outputId": "3a8f08aa-73a0-4f31-aacd-f14eba07c0d3",
        "colab": {
          "base_uri": "https://localhost:8080/",
          "height": 1730
        }
      },
      "cell_type": "code",
      "source": [
        "import random\n",
        "\n",
        "idxs = random.sample(range(1, dataset.df.shape[0]), 3)\n",
        "\n",
        "for idx in idxs:\n",
        "    Show(dataset[idx])"
      ],
      "execution_count": 0,
      "outputs": [
        {
          "output_type": "error",
          "ename": "RuntimeError",
          "evalue": "ignored",
          "traceback": [
            "\u001b[0;31m---------------------------------------------------------------------------\u001b[0m",
            "\u001b[0;31mRuntimeError\u001b[0m                              Traceback (most recent call last)",
            "\u001b[0;32m<ipython-input-9-ec99246d40a3>\u001b[0m in \u001b[0;36m<module>\u001b[0;34m()\u001b[0m\n\u001b[1;32m      4\u001b[0m \u001b[0;34m\u001b[0m\u001b[0m\n\u001b[1;32m      5\u001b[0m \u001b[0;32mfor\u001b[0m \u001b[0midx\u001b[0m \u001b[0;32min\u001b[0m \u001b[0midxs\u001b[0m\u001b[0;34m:\u001b[0m\u001b[0;34m\u001b[0m\u001b[0;34m\u001b[0m\u001b[0m\n\u001b[0;32m----> 6\u001b[0;31m     \u001b[0mShow\u001b[0m\u001b[0;34m(\u001b[0m\u001b[0mdataset\u001b[0m\u001b[0;34m[\u001b[0m\u001b[0midx\u001b[0m\u001b[0;34m]\u001b[0m\u001b[0;34m)\u001b[0m\u001b[0;34m\u001b[0m\u001b[0;34m\u001b[0m\u001b[0m\n\u001b[0m",
            "\u001b[0;32m<ipython-input-8-d9220fafaed8>\u001b[0m in \u001b[0;36mShow\u001b[0;34m(sample)\u001b[0m\n\u001b[1;32m      7\u001b[0m \u001b[0;34m\u001b[0m\u001b[0m\n\u001b[1;32m      8\u001b[0m     \u001b[0;32mfor\u001b[0m \u001b[0mi\u001b[0m\u001b[0;34m,\u001b[0m \u001b[0mlabel\u001b[0m \u001b[0;32min\u001b[0m \u001b[0menumerate\u001b[0m\u001b[0;34m(\u001b[0m\u001b[0mLABELS\u001b[0m\u001b[0;34m)\u001b[0m\u001b[0;34m:\u001b[0m\u001b[0;34m\u001b[0m\u001b[0;34m\u001b[0m\u001b[0m\n\u001b[0;32m----> 9\u001b[0;31m         \u001b[0;32mif\u001b[0m \u001b[0mlabels\u001b[0m\u001b[0;34m[\u001b[0m\u001b[0mi\u001b[0m\u001b[0;34m]\u001b[0m \u001b[0;34m==\u001b[0m \u001b[0;36m1\u001b[0m\u001b[0;34m:\u001b[0m\u001b[0;34m\u001b[0m\u001b[0;34m\u001b[0m\u001b[0m\n\u001b[0m\u001b[1;32m     10\u001b[0m             \u001b[0;32mif\u001b[0m \u001b[0mtitle\u001b[0m \u001b[0;34m==\u001b[0m \u001b[0;34m''\u001b[0m\u001b[0;34m:\u001b[0m\u001b[0;34m\u001b[0m\u001b[0;34m\u001b[0m\u001b[0m\n\u001b[1;32m     11\u001b[0m                 \u001b[0mtitle\u001b[0m \u001b[0;34m+=\u001b[0m \u001b[0mlabel\u001b[0m\u001b[0;34m\u001b[0m\u001b[0;34m\u001b[0m\u001b[0m\n",
            "\u001b[0;31mRuntimeError\u001b[0m: bool value of Tensor with more than one value is ambiguous"
          ]
        },
        {
          "output_type": "display_data",
          "data": {
            "image/png": "[encoded data removed]",
            "text/plain": [
              "<matplotlib.figure.Figure at 0x7f16a6b93e48>"
            ]
          },
          "metadata": {
            "tags": []
          }
        }
      ]
    },
    {
      "metadata": {
        "id": "8KRz22_ZXt79",
        "colab_type": "code",
        "colab": {}
      },
      "cell_type": "code",
      "source": [
        "from torch.utils.data.sampler import SubsetRandomSampler\n",
        "from torch.optim import lr_scheduler\n",
        "import torch.optim as optim\n",
        "import torch.nn as nn\n",
        "import math\n",
        "\n",
        "def prepare_loaders():\n",
        "    dataset.loadData()\n",
        "    num_train = len(dataset)\n",
        "    indices = list(range(num_train))\n",
        "    val_size = int(0.45 * num_train) \n",
        "\n",
        "    # Random, non-contiguous split\n",
        "    validation_idx = np.random.choice(indices, size=val_size, replace=False)\n",
        "    train_idx = list(set(indices) - set(validation_idx))\n",
        "\n",
        "    train_sampler = SubsetRandomSampler(train_idx)\n",
        "    validation_sampler = SubsetRandomSampler(validation_idx)\n",
        "\n",
        "    dataset_sizes = {}\n",
        "\n",
        "    dataset_sizes['train'] = len(train_idx)\n",
        "    dataset_sizes['val'] = len(validation_idx)\n",
        "    \n",
        "    train_loader = DataLoader(dataset, batch_size=BATCH_SIZE,num_workers=0, sampler=train_sampler)\n",
        "    validation_loader = DataLoader(dataset, batch_size=BATCH_SIZE, num_workers=0,sampler=validation_sampler)\n",
        "\n",
        "    dataloaders = {}\n",
        "\n",
        "    dataloaders['train'] = train_loader\n",
        "    dataloaders['val'] = validation_loader\n",
        "    \n",
        "    return (dataloaders, dataset_sizes)"
      ],
      "execution_count": 0,
      "outputs": []
    },
    {
      "metadata": {
        "id": "ybF97Ch8XvRA",
        "colab_type": "code",
        "outputId": "88098a05-6b19-4bf1-d910-a6ad1b938401",
        "colab": {
          "base_uri": "https://localhost:8080/",
          "height": 204
        }
      },
      "cell_type": "code",
      "source": [
        "dataloaders, dataset_sizes = prepare_loaders()\n",
        "\n",
        "dataset.df.head()"
      ],
      "execution_count": 0,
      "outputs": [
        {
          "output_type": "execute_result",
          "data": {
            "text/html": [
              "<div>\n",
              "<style scoped>\n",
              "    .dataframe tbody tr th:only-of-type {\n",
              "        vertical-align: middle;\n",
              "    }\n",
              "\n",
              "    .dataframe tbody tr th {\n",
              "        vertical-align: top;\n",
              "    }\n",
              "\n",
              "    .dataframe thead th {\n",
              "        text-align: right;\n",
              "    }\n",
              "</style>\n",
              "<table border=\"1\" class=\"dataframe\">\n",
              "  <thead>\n",
              "    <tr style=\"text-align: right;\">\n",
              "      <th></th>\n",
              "      <th>Id</th>\n",
              "      <th>Target</th>\n",
              "      <th>Targets</th>\n",
              "    </tr>\n",
              "  </thead>\n",
              "  <tbody>\n",
              "    <tr>\n",
              "      <th>0</th>\n",
              "      <td>2eda3904-bbaa-11e8-b2ba-ac1f6b6435d0</td>\n",
              "      <td>0</td>\n",
              "      <td>[0]</td>\n",
              "    </tr>\n",
              "    <tr>\n",
              "      <th>1</th>\n",
              "      <td>076a3b42-bbb1-11e8-b2ba-ac1f6b6435d0</td>\n",
              "      <td>5</td>\n",
              "      <td>[5]</td>\n",
              "    </tr>\n",
              "    <tr>\n",
              "      <th>2</th>\n",
              "      <td>d39ce426-bba7-11e8-b2ba-ac1f6b6435d0</td>\n",
              "      <td>13 21</td>\n",
              "      <td>[13, 21]</td>\n",
              "    </tr>\n",
              "    <tr>\n",
              "      <th>3</th>\n",
              "      <td>7b747b1e-bbb7-11e8-b2ba-ac1f6b6435d0</td>\n",
              "      <td>16 0</td>\n",
              "      <td>[16, 0]</td>\n",
              "    </tr>\n",
              "    <tr>\n",
              "      <th>4</th>\n",
              "      <td>9f8967ec-bbc8-11e8-b2bc-ac1f6b6435d0</td>\n",
              "      <td>25 21</td>\n",
              "      <td>[25, 21]</td>\n",
              "    </tr>\n",
              "  </tbody>\n",
              "</table>\n",
              "</div>"
            ],
            "text/plain": [
              "                                     Id Target   Targets\n",
              "0  2eda3904-bbaa-11e8-b2ba-ac1f6b6435d0      0       [0]\n",
              "1  076a3b42-bbb1-11e8-b2ba-ac1f6b6435d0      5       [5]\n",
              "2  d39ce426-bba7-11e8-b2ba-ac1f6b6435d0  13 21  [13, 21]\n",
              "3  7b747b1e-bbb7-11e8-b2ba-ac1f6b6435d0   16 0   [16, 0]\n",
              "4  9f8967ec-bbc8-11e8-b2bc-ac1f6b6435d0  25 21  [25, 21]"
            ]
          },
          "metadata": {
            "tags": []
          },
          "execution_count": 11
        }
      ]
    },
    {
      "metadata": {
        "id": "_Fl8V14UUCZt",
        "colab_type": "code",
        "colab": {}
      },
      "cell_type": "code",
      "source": [
        "dataset[0]"
      ],
      "execution_count": 0,
      "outputs": []
    },
    {
      "metadata": {
        "id": "5i8Qm3nLnryf",
        "colab_type": "code",
        "outputId": "01ef687d-1a5d-4c9b-89d9-d9e0eedebfba",
        "colab": {
          "base_uri": "https://localhost:8080/",
          "height": 85
        }
      },
      "cell_type": "code",
      "source": [
        "for i in range(len(dataset)):\n",
        "  sample = dataset[i]\n",
        "  print(i, sample['image'].shape, sample['target'].shape)\n",
        "  #print('Image name: {}'.format(sample))\n",
        "  if i == 3:\n",
        "    break"
      ],
      "execution_count": 0,
      "outputs": [
        {
          "output_type": "stream",
          "text": [
            "0 torch.Size([4, 256, 256]) torch.Size([1, 28])\n",
            "1 torch.Size([4, 256, 256]) torch.Size([1, 28])\n",
            "2 torch.Size([4, 256, 256]) torch.Size([1, 28])\n",
            "3 torch.Size([4, 256, 256]) torch.Size([1, 28])\n"
          ],
          "name": "stdout"
        }
      ]
    },
    {
      "metadata": {
        "id": "CW4Qrd8BT4kx",
        "colab_type": "code",
        "colab": {}
      },
      "cell_type": "code",
      "source": [
        "protein = pd.read_csv(train_csv_path)\n",
        "n=25\n",
        "img_name = protein.iloc[n,0]\n",
        "print('Image name: {}'.format(img_name))\n",
        "\n",
        "labels = protein.iloc[n,1:]\n",
        "labels = protein.iloc[n,1:]\n",
        "#print('Label shape: {}'.format(labels.shape))\n",
        "print('Labels: {}'.format(labels))"
      ],
      "execution_count": 0,
      "outputs": []
    },
    {
      "metadata": {
        "id": "2RIspmU5bLw0",
        "colab_type": "code",
        "colab": {}
      },
      "cell_type": "code",
      "source": [
        "dataset = HumanProteinDataset(train_csv_path, transform=transform.Compose([\n",
        "                                                                           ToTensor(),\n",
        "                                                                           Rescale(512),\n",
        "                                                                           RandomCrop(224),\n",
        "                                                                           ToPILImage(),\n",
        "                                                                           Normalize(),\n",
        "                                                                           RandomHorizontalFlip(),\n",
        "                                                                           RandomVerticalFlip(),\n",
        "                                                                          ]))"
      ],
      "execution_count": 0,
      "outputs": []
    },
    {
      "metadata": {
        "id": "eFiDeDNUcVbR",
        "colab_type": "code",
        "colab": {}
      },
      "cell_type": "code",
      "source": [
        "class Compose(object):\n",
        "    \"\"\"Composes several transforms together.\n",
        "\n",
        "    Args:\n",
        "        transforms (list of ``Transform`` objects): list of transforms to compose.\n",
        "\n",
        "    Example:\n",
        "        >>> transforms.Compose([\n",
        "        >>>     transforms.CenterCrop(10),\n",
        "        >>>     transforms.ToTensor(),\n",
        "        >>> ])\n",
        "    \"\"\"\n",
        "\n",
        "    def __init__(self, transforms):\n",
        "        self.transforms = transforms\n",
        "\n",
        "    def __call__(self, img):\n",
        "        for t in self.transforms:\n",
        "            img = t(img)\n",
        "        return img\n",
        "\n",
        "    def __repr__(self):\n",
        "        format_string = self.__class__.__name__ + '('\n",
        "        for t in self.transforms:\n",
        "            format_string += '\\n'\n",
        "            format_string += '    {0}'.format(t)\n",
        "        format_string += '\\n)'\n",
        "        return format_string\n",
        "\n",
        "\n",
        "\n",
        "class ToTensor(object):\n",
        "    \"\"\"Convert a ``PIL Image`` or ``numpy.ndarray`` to tensor.\n",
        "\n",
        "    Converts a PIL Image or numpy.ndarray (H x W x C) in the range\n",
        "    [0, 255] to a torch.FloatTensor of shape (C x H x W) in the range [0.0, 1.0].\n",
        "    \"\"\"\n",
        "    \n",
        "    def __call__(self, pic):\n",
        "        \"\"\"\n",
        "        Args:\n",
        "            pic (PIL Image or numpy.ndarray): Image to be converted to tensor.\n",
        "        \"\"\"\n",
        "        \n",
        "        image = sample['image']/255.0\n",
        "        totensor = transforms.ToTensor()\n",
        "        ret = {'image': totensor(image)}\n",
        "       \n",
        "        if \"target\" in sample.keys():\n",
        "            target = sample['target'][0]\n",
        "            ret['target'] = target\n",
        "        else:\n",
        "            ret['Id'] = sample['Id']\n",
        "                  \n",
        "        return ret          \n",
        "      \n",
        "      \"\"\"\"\n",
        "        Returns:\n",
        "            Tensor: Converted image.\n",
        "        \"\"\"\n",
        "\n",
        "\n",
        "class ToPILImage(object):\n",
        "    \"\"\"Convert a tensor or an ndarray to PIL Image.\n",
        "\n",
        "    Converts a torch.*Tensor of shape C x H x W or a numpy ndarray of shape\n",
        "    H x W x C to a PIL Image while preserving the value range.\n",
        "\n",
        "    Args:\n",
        "        mode (`PIL.Image mode`_): color space and pixel depth of input data (optional).\n",
        "            If ``mode`` is ``None`` (default) there are some assumptions made about the input data:\n",
        "            1. If the input has 3 channels, the ``mode`` is assumed to be ``RGB``.\n",
        "            2. If the input has 4 channels, the ``mode`` is assumed to be ``RGBA``.\n",
        "            3. If the input has 1 channel, the ``mode`` is determined by the data type (i,e,\n",
        "            ``int``, ``float``, ``short``).\n",
        "\n",
        "    .. _PIL.Image mode: http://pillow.readthedocs.io/en/3.4.x/handbook/concepts.html#modes\n",
        "    \"\"\"\n",
        "    def __init__(self, mode=None):\n",
        "        self.mode = mode\n",
        "\n",
        "    def __call__(self, basepath, image_id):\n",
        "      \n",
        "        \"\"\"\n",
        "        Args:\n",
        "            pic (Tensor or numpy.ndarray): Image to be converted to PIL Image.\n",
        "        \"\"\"\n",
        "            \n",
        "      images = np.zeros(shape=(256,256,4))\n",
        "      r = Image.open(basepath+image_id+\"_red.png\").resize((256,256))\n",
        "      g = Image.open(basepath+image_id+\"_green.png\").resize((256,256))\n",
        "      b = Image.open(basepath+image_id+\"_blue.png\").resize((256,256))\n",
        "      y = Image.open(basepath+image_id+\"_yellow.png\").resize((256,256))\n",
        "\n",
        "      images[:,:,0] = np.asarray(r)\n",
        "      images[:,:,1] = np.asarray(g)\n",
        "      images[:,:,2] = np.asarray(b)\n",
        "      images[:,:,3] = np.asarray(y)\n",
        "    \n",
        "     return images     \n",
        "    \n",
        "        \"\"\"\"\n",
        "        Returns:\n",
        "            PIL Image: Image converted to PIL Image.\n",
        "\n",
        "        \"\"\"\n",
        "        #return F.to_pil_image(pic, self.mode)\n",
        "\n",
        "\n",
        "class Normalize(object):\n",
        "    \"\"\"Normalize a tensor image with mean and standard deviation.\n",
        "    Given mean: ``(M1,...,Mn)`` and std: ``(S1,..,Sn)`` for ``n`` channels, this transform\n",
        "    will normalize each channel of the input ``torch.*Tensor`` i.e.\n",
        "    ``input[channel] = (input[channel] - mean[channel]) / std[channel]``\n",
        "\n",
        "    Args:\n",
        "        mean (sequence): Sequence of means for each channel.\n",
        "        std (sequence): Sequence of standard deviations for each channel.\n",
        "    \"\"\"\n",
        "\n",
        "    def __init__(self, mean, std):\n",
        "        self.mean = mean\n",
        "        self.std = std\n",
        "\n",
        "    def __call__(self, tensor):\n",
        "        \"\"\"\n",
        "        Args:\n",
        "            tensor (Tensor): Tensor image of size (C, H, W) to be normalized.\n",
        "\n",
        "        Returns:\n",
        "            Tensor: Normalized Tensor image.\n",
        "        \"\"\"\n",
        "        return F.normalize(tensor, self.mean, self.std)\n",
        "\n",
        "\n",
        "    def __repr__(self):\n",
        "        return self.__class__.__name__ + '(mean={0}, std={1})'.format(self.mean, self.std)\n",
        "\n",
        "\n",
        "\n",
        "class Resize(object):\n",
        "    \"\"\"Resize the input PIL Image to the given size.\n",
        "\n",
        "    Args:\n",
        "        size (sequence or int): Desired output size. If size is a sequence like\n",
        "            (h, w), output size will be matched to this. If size is an int,\n",
        "            smaller edge of the image will be matched to this number.\n",
        "            i.e, if height > width, then image will be rescaled to\n",
        "            (size * height / width, size)\n",
        "        interpolation (int, optional): Desired interpolation. Default is\n",
        "            ``PIL.Image.BILINEAR``\n",
        "    \"\"\"\n",
        "\n",
        "    def __init__(self, size, interpolation=Image.BILINEAR):\n",
        "        assert isinstance(size, int) or (isinstance(size, collections.Iterable) and len(size) == 2)\n",
        "        self.size = size\n",
        "        self.interpolation = interpolation\n",
        "\n",
        "    def __call__(self, img):\n",
        "        \"\"\"\n",
        "        Args:\n",
        "            img (PIL Image): Image to be scaled.\n",
        "    \n",
        "        Returns:\n",
        "            PIL Image: Rescaled image.\n",
        "        \"\"\"\n",
        "        \n",
        "        image, label = img['image'],  img['labels']\n",
        "        return F.resize(image, self.size, self.interpolation)\n",
        "\n",
        "    def __repr__(self):\n",
        "        interpolate_str = _pil_interpolation_to_str[self.interpolation]\n",
        "        return self.__class__.__name__ + '(size={0}, interpolation={1})'.format(self.size, interpolate_str)\n",
        "\n",
        "      \n",
        "class Rescale(object):\n",
        "    \"\"\"Rescale the image in a sample to a given size.\n",
        "\n",
        "    Args:\n",
        "        output_size (tuple or int): Desired output size. If tuple, output is\n",
        "            matched to output_size. If int, smaller of image edges is matched\n",
        "            to output_size keeping aspect ratio the same.\n",
        "    \"\"\"\n",
        "\n",
        "    def __init__(self, output_size):\n",
        "        assert isinstance(output_size, (int, tuple))\n",
        "        self.output_size = output_size\n",
        "\n",
        "    def __call__(self, sample):\n",
        "        image, landmarks = sample['image'], sample['landmarks']\n",
        "\n",
        "        h, w = image.shape[:2]\n",
        "        if isinstance(self.output_size, int):\n",
        "            if h > w:\n",
        "                new_h, new_w = self.output_size * h / w, self.output_size\n",
        "            else:\n",
        "                new_h, new_w = self.output_size, self.output_size * w / h\n",
        "        else:\n",
        "            new_h, new_w = self.output_size\n",
        "\n",
        "        new_h, new_w = int(new_h), int(new_w)\n",
        "\n",
        "        img = transform.resize(image, (new_h, new_w))\n",
        "\n",
        "        # h and w are swapped for landmarks because for images,\n",
        "        # x and y axes are axis 1 and 0 respectively\n",
        "        landmarks = landmarks * [new_w / w, new_h / h]\n",
        "\n",
        "        return {'image': img, 'landmarks': landmarks}\n",
        "\n"
      ],
      "execution_count": 0,
      "outputs": []
    },
    {
      "metadata": {
        "id": "_PV999RsVO2_",
        "colab_type": "code",
        "colab": {}
      },
      "cell_type": "code",
      "source": [
        "def Show(sample):\n",
        "    f, (ax1,ax2,ax3,ax4) = plt.subplots(1, 4, figsize=(3,3), sharey=True)\n",
        "\n",
        "    title = ''\n",
        "    \n",
        "    labels =sample['target']\n",
        "                \n",
        "    for i, label in enumerate(LABELS):\n",
        "        if labels[i] == 1:\n",
        "            if title == '':\n",
        "                title += label\n",
        "            else:\n",
        "                title += \" & \" + label\n",
        "            \n",
        "    ax1.imshow(sample['image'][0,:,:],cmap=\"hot\")\n",
        "    ax1.set_title('Red')\n",
        "    ax2.imshow(sample['image'][1,:,:],cmap=\"copper\")\n",
        "    ax2.set_title('Green')\n",
        "    ax3.imshow(sample['image'][2,:,:],cmap=\"bone\")\n",
        "    ax3.set_title('Blue')\n",
        "    ax4.imshow(sample['image'][3,:,:],cmap=\"afmhot\")\n",
        "    ax4.set_title('Yellow')\n",
        "    f.suptitle(title, fontsize=20, y=0.62)"
      ],
      "execution_count": 0,
      "outputs": []
    },
    {
      "metadata": {
        "id": "81avJrCUVQDn",
        "colab_type": "code",
        "colab": {}
      },
      "cell_type": "code",
      "source": [
        "import random\n",
        "import cv2\n",
        "idxs = random.sample(range(1, dataset.df.shape[0]), 3)\n",
        "\n",
        "for idx in idxs:\n",
        "    Show(dataset[idx])"
      ],
      "execution_count": 0,
      "outputs": []
    },
    {
      "metadata": {
        "id": "PPvVAVMnVRLm",
        "colab_type": "code",
        "colab": {}
      },
      "cell_type": "code",
      "source": [
        "from torch.utils.data.sampler import SubsetRandomSampler\n",
        "from torch.optim import lr_scheduler\n",
        "import torch.optim as optim\n",
        "import torch.nn as nn\n",
        "import math\n",
        "\n",
        "def prepare_loaders():\n",
        "    dataset.loadData()\n",
        "    num_train = len(dataset)\n",
        "    indices = list(range(num_train))\n",
        "    val_size = int(0.45 * num_train) \n",
        "\n",
        "    # Random, non-contiguous split\n",
        "    validation_idx = np.random.choice(indices, size=val_size, replace=False)\n",
        "    train_idx = list(set(indices) - set(validation_idx))\n",
        "\n",
        "    train_sampler = SubsetRandomSampler(train_idx)\n",
        "    validation_sampler = SubsetRandomSampler(validation_idx)\n",
        "\n",
        "    dataset_sizes = {}\n",
        "\n",
        "    dataset_sizes['train'] = len(train_idx)\n",
        "    dataset_sizes['val'] = len(validation_idx)\n",
        "    \n",
        "    train_loader = DataLoader(dataset, batch_size=BATCH_SIZE,num_workers=0, sampler=train_sampler)\n",
        "    validation_loader = DataLoader(dataset, batch_size=BATCH_SIZE, num_workers=0,sampler=validation_sampler)\n",
        "\n",
        "    dataloaders = {}\n",
        "\n",
        "    dataloaders['train'] = train_loader\n",
        "    dataloaders['val'] = validation_loader\n",
        "    \n",
        "    return (dataloaders, dataset_sizes)"
      ],
      "execution_count": 0,
      "outputs": []
    },
    {
      "metadata": {
        "id": "B4qV8xliVpZJ",
        "colab_type": "code",
        "colab": {}
      },
      "cell_type": "code",
      "source": [
        "dataloaders, dataset_sizes = prepare_loaders()\n",
        "\n",
        "dataset.df.head()"
      ],
      "execution_count": 0,
      "outputs": []
    },
    {
      "metadata": {
        "id": "KjsOyoiOVqHH",
        "colab_type": "code",
        "colab": {}
      },
      "cell_type": "code",
      "source": [
        "class CNN(nn.Module):\n",
        "    def __init__(self):\n",
        "        super(CNN, self).__init__()\n",
        "        self.conv1 = nn.Sequential(      #input: 4xWxH\n",
        "            nn.Conv2d(4,8,5,1,2),        # input_channels, output_channels, kernel_size, stride, padding   \n",
        "            nn.ReLU(),                      \n",
        "            nn.MaxPool2d(kernel_size=2), #output: 8xW/2xH/2\n",
        "        )\n",
        "        self.conv2 = nn.Sequential(      #input: 4xWxH\n",
        "            nn.Conv2d(8,16,5,1,2),        # input_channels, output_channels, kernel_size, stride, padding   \n",
        "            nn.ReLU(),                      \n",
        "            nn.MaxPool2d(kernel_size=2), #output: 16xW/4xH/4\n",
        "        )\n",
        "        self.drop_out = nn.Dropout()\n",
        "        self.out1 = nn.Linear( int(16 * W/4 * H/4), 900)   # fully connected layer, output 28 classes\n",
        "        self.out2 = nn.Linear( 900, 28)   # fully connected layer, output 28 classes\n",
        "\n",
        "    def forward(self, x):\n",
        "        x = self.conv1(x)\n",
        "        x = self.conv2(x)\n",
        "        x = x.view(x.size(0), -1)           # flatten the output of conv2 to (batch_size, 32 * 7 * 7)\n",
        "        output = self.drop_out(x)\n",
        "        output = self.out1(x)\n",
        "        output = self.out2(output)\n",
        "        return output, x    # return x for visualization\n",
        "\n",
        "def init_weights(m):\n",
        "        if type(m) == nn.Linear:\n",
        "            torch.nn.init.xavier_uniform(m.weight)\n",
        "            m.bias.data.fill_(0.01)"
      ],
      "execution_count": 0,
      "outputs": []
    },
    {
      "metadata": {
        "id": "JOeAh_3BVsag",
        "colab_type": "code",
        "colab": {}
      },
      "cell_type": "code",
      "source": [
        "dataloaders, dataset_sizes = prepare_loaders()"
      ],
      "execution_count": 0,
      "outputs": []
    },
    {
      "metadata": {
        "id": "ubMWb-DjVsUh",
        "colab_type": "code",
        "colab": {}
      },
      "cell_type": "code",
      "source": [
        "losses = {}\n",
        "accuracys = {}\n",
        "\n",
        "losses['train'] = []\n",
        "losses['val'] = []\n",
        "accuracys['train'] = []\n",
        "accuracys['val'] = []"
      ],
      "execution_count": 0,
      "outputs": []
    },
    {
      "metadata": {
        "id": "a9ZBms8LV3tA",
        "colab_type": "code",
        "colab": {}
      },
      "cell_type": "code",
      "source": [
        "def Train(model, epochs=10, criterion=nn.BCEWithLogitsLoss(reduction='sum'), optimizer= None):\n",
        "    since = time.time()\n",
        "\n",
        "    best_model_wts = copy.deepcopy(model.state_dict())\n",
        "    best_acc = 0.0\n",
        "\n",
        "\n",
        "    if optimizer == None:\n",
        "        optimizer = optim.Adam(model.parameters(), lr=0.04, betas=(0.9, 0.99))\n",
        "    \n",
        "    device = torch.device(\"cuda:0\" if torch.cuda.is_available() else \"cpu\")\n",
        "    print(\"training with device: \" + str(device))\n",
        "    \n",
        "    model.to(device)\n",
        "    \n",
        "    for epoch in range(epochs):  # loop over the dataset multiple times\n",
        "        print('Epoch {}/{}'.format(epoch+1, epochs))\n",
        "        print('-' * 10)\n",
        "        \n",
        "        for phase in ['train', 'val']:\n",
        "            if phase == 'train':\n",
        "                model.train()  # Set model to training mode\n",
        "            else:\n",
        "                model.eval()   # Set model to evaluate mode\n",
        "                \n",
        "            running_loss = 0.0    \n",
        "            running_corrects = 0.0\n",
        "    \n",
        "            for i, data in enumerate(dataloaders[phase], 0):            \n",
        "                # get the inputs\n",
        "                inputs, labels = data['image'], data['target']\n",
        "\n",
        "                inputs, labels = inputs.to(device,dtype=torch.float), labels.to(device,dtype=torch.float)\n",
        "\n",
        "                # zero the parameter gradients\n",
        "                optimizer.zero_grad()\n",
        "                \n",
        "                # forward\n",
        "                # track history if only in train\n",
        "                with torch.set_grad_enabled(phase == 'train'):\n",
        "                    outputs = model(inputs)[0]\n",
        "                    preds = outputs > 0\n",
        "                    loss = criterion(outputs, labels)\n",
        "\n",
        "                    # backward + optimize only if in training phase\n",
        "                    if phase == 'train':\n",
        "                        loss.backward()\n",
        "                        optimizer.step()\n",
        "                        \n",
        "                 # statistics\n",
        "                running_loss += loss.item() * inputs.size(0)\n",
        "                labels = labels.data.byte()\n",
        "                running_corrects += torch.sum((labels == preds).all(1))\n",
        "                                \n",
        "            epoch_loss = running_loss / dataset_sizes[phase]\n",
        "            epoch_acc = running_corrects.float() / dataset_sizes[phase]\n",
        "            print('{} Loss: {:.4f} Acc: {:.4f}'.format(phase, epoch_loss, epoch_acc))\n",
        "            \n",
        "            losses[phase].append(epoch_loss)\n",
        "            accuracys[phase].append(epoch_acc)\n",
        "            \n",
        "            # deep copy the model\n",
        "            if phase == 'val' and epoch_acc > best_acc:\n",
        "                best_acc = epoch_acc\n",
        "                best_model_wts = copy.deepcopy(model.state_dict())\n",
        "                \n",
        "                \n",
        "\n",
        "    time_elapsed = time.time() - since\n",
        "    print('Training complete in {:.0f}m {:.0f}s'.format(\n",
        "        time_elapsed // 60, time_elapsed % 60))\n",
        "    print('Best val Acc: {:4f}'.format(best_acc))\n",
        "\n",
        "    # load best model weights\n",
        "    model.load_state_dict(best_model_wts)\n",
        "    return model\n",
        "\n",
        "\n",
        "def run_model(model,batch):\n",
        "    device = torch.device(\"cuda:0\" if torch.cuda.is_available() else \"cpu\")\n",
        "    model.to(device)\n",
        "    inputs = batch\n",
        "    inputs = inputs.to(device,dtype=torch.float)\n",
        "    out = model(inputs)\n",
        "    out = out[0].cpu()\n",
        "    return out"
      ],
      "execution_count": 0,
      "outputs": []
    },
    {
      "metadata": {
        "id": "fnibyAyRV5-1",
        "colab_type": "code",
        "colab": {}
      },
      "cell_type": "code",
      "source": [
        "# model creation and initialization\n",
        "cnn = CNN()\n",
        "cnn.apply(init_weights)"
      ],
      "execution_count": 0,
      "outputs": []
    },
    {
      "metadata": {
        "id": "uWZXPLGZV65B",
        "colab_type": "code",
        "colab": {}
      },
      "cell_type": "code",
      "source": [
        "# training\n",
        "torch.cuda.empty_cache()\n",
        "cnn = Train(cnn, epochs=10,  criterion=nn.BCEWithLogitsLoss(reduction='sum'), optimizer = optim.Adam(cnn.parameters(), lr=0.001, betas=(0.9, 0.99)))"
      ],
      "execution_count": 0,
      "outputs": []
    }
  ]
}